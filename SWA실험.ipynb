{
  "nbformat": 4,
  "nbformat_minor": 0,
  "metadata": {
    "colab": {
      "name": "SWA실험.ipynb",
      "provenance": [],
      "collapsed_sections": [],
      "machine_shape": "hm",
      "authorship_tag": "ABX9TyNpaEIQL8pjsUADbBLQKQVn",
      "include_colab_link": true
    },
    "kernelspec": {
      "name": "python3",
      "display_name": "Python 3"
    },
    "accelerator": "GPU"
  },
  "cells": [
    {
      "cell_type": "markdown",
      "metadata": {
        "id": "view-in-github",
        "colab_type": "text"
      },
      "source": [
        "<a href=\"https://colab.research.google.com/github/Junghwan-brian/Colab/blob/main/SWA%EC%8B%A4%ED%97%98.ipynb\" target=\"_parent\"><img src=\"https://colab.research.google.com/assets/colab-badge.svg\" alt=\"Open In Colab\"/></a>"
      ]
    },
    {
      "cell_type": "code",
      "metadata": {
        "id": "4XanWNVpWLgB",
        "outputId": "66871060-30fe-473d-f455-e6ff1599986a",
        "colab": {
          "base_uri": "https://localhost:8080/",
          "height": 369
        }
      },
      "source": [
        "!nvidia-smi"
      ],
      "execution_count": 1,
      "outputs": [
        {
          "output_type": "stream",
          "text": [
            "Wed Oct 14 03:43:12 2020       \n",
            "+-----------------------------------------------------------------------------+\n",
            "| NVIDIA-SMI 455.23.05    Driver Version: 418.67       CUDA Version: 10.1     |\n",
            "|-------------------------------+----------------------+----------------------+\n",
            "| GPU  Name        Persistence-M| Bus-Id        Disp.A | Volatile Uncorr. ECC |\n",
            "| Fan  Temp  Perf  Pwr:Usage/Cap|         Memory-Usage | GPU-Util  Compute M. |\n",
            "|                               |                      |               MIG M. |\n",
            "|===============================+======================+======================|\n",
            "|   0  Tesla V100-SXM2...  Off  | 00000000:00:04.0 Off |                    0 |\n",
            "| N/A   33C    P0    24W / 300W |      0MiB / 16130MiB |      0%      Default |\n",
            "|                               |                      |                 ERR! |\n",
            "+-------------------------------+----------------------+----------------------+\n",
            "                                                                               \n",
            "+-----------------------------------------------------------------------------+\n",
            "| Processes:                                                                  |\n",
            "|  GPU   GI   CI        PID   Type   Process name                  GPU Memory |\n",
            "|        ID   ID                                                   Usage      |\n",
            "|=============================================================================|\n",
            "|  No running processes found                                                 |\n",
            "+-----------------------------------------------------------------------------+\n"
          ],
          "name": "stdout"
        }
      ]
    },
    {
      "cell_type": "code",
      "metadata": {
        "id": "TdKkCLklWQBo",
        "outputId": "4a51d65d-cbda-448c-c471-eda91a2e697f",
        "colab": {
          "base_uri": "https://localhost:8080/",
          "height": 52
        }
      },
      "source": [
        "import tensorflow as tf\n",
        "import tensorflow_addons as tfa\n",
        "from tensorflow.keras.applications.resnet import ResNet50\n",
        "import matplotlib.pyplot as plt\n",
        "%matplotlib inline\n",
        "learning_rate=0.05\n",
        "batch_size = 128\n",
        "num_epochs = 5\n",
        "def create_model(opt):\n",
        "    resnet50 = ResNet50(weights='imagenet', include_top=False,\n",
        "                    input_shape=(32, 32, 3))\n",
        "    input_seq = tf.keras.layers.Input(shape=(32, 32, 3))\n",
        "    x = resnet50(input_seq)\n",
        "    x = tf.keras.layers.Flatten()(x)\n",
        "    x = tf.keras.layers.Dense(128, activation='relu',kernel_initializer=tf.keras.initializers.he_uniform(seed=0),kernel_regularizer='l2')(x)\n",
        "    output = tf.keras.layers.Dense(10,kernel_initializer=tf.keras.initializers.glorot_normal(seed=0), activation='softmax')(x)\n",
        "\n",
        "    model = tf.keras.Model(\n",
        "        inputs=input_seq, outputs=output, name='resnet')\n",
        "    # Model is the full model w/o custom layers\n",
        "    model.compile(optimizer=opt,  # Optimization\n",
        "                        loss='sparse_categorical_crossentropy',  # Loss Function\n",
        "                        metrics=['accuracy'])\n",
        "    return model\n",
        "cifar10 = tf.keras.datasets.cifar10\n",
        "(x_train, y_train), (x_test, y_test) = cifar10.load_data()\n",
        "\n",
        "x_train = x_train/255.\n",
        "x_test = x_test/255.\n",
        "train_ds = tf.data.Dataset.from_tensor_slices((x_train, y_train)).prefetch(tf.data.experimental.AUTOTUNE).batch(batch_size).repeat()\n",
        "test_ds = tf.data.Dataset.from_tensor_slices((x_test, y_test)).batch(batch_size)\n",
        "\n",
        "steps_per_epoch = len(x_train) // batch_size\n",
        "validation_steps = len(x_test) // batch_size\n"
      ],
      "execution_count": 2,
      "outputs": [
        {
          "output_type": "stream",
          "text": [
            "Downloading data from https://www.cs.toronto.edu/~kriz/cifar-10-python.tar.gz\n",
            "170500096/170498071 [==============================] - 6s 0us/step\n"
          ],
          "name": "stdout"
        }
      ]
    },
    {
      "cell_type": "code",
      "metadata": {
        "id": "8Hm_LTs1LqLS",
        "outputId": "f8d3950a-f9c3-4992-c9df-f97314afff7d",
        "colab": {
          "base_uri": "https://localhost:8080/",
          "height": 34
        }
      },
      "source": [
        "print(tf.__version__)"
      ],
      "execution_count": 3,
      "outputs": [
        {
          "output_type": "stream",
          "text": [
            "2.3.0\n"
          ],
          "name": "stdout"
        }
      ]
    },
    {
      "cell_type": "code",
      "metadata": {
        "id": "KIWkkWkOcyBH",
        "outputId": "13225164-e0c0-4e32-cfd7-2d2d868df57a",
        "colab": {
          "base_uri": "https://localhost:8080/",
          "height": 301
        }
      },
      "source": [
        "\n",
        "sgd = tf.keras.optimizers.SGD(learning_rate,momentum=0.9)\n",
        "model = create_model(sgd)\n",
        "sgd_hist = model.fit_generator(\n",
        "    train_ds,\n",
        "    steps_per_epoch=steps_per_epoch,\n",
        "    validation_steps=validation_steps,\n",
        "    epochs=num_epochs,\n",
        ")"
      ],
      "execution_count": 4,
      "outputs": [
        {
          "output_type": "stream",
          "text": [
            "Downloading data from https://storage.googleapis.com/tensorflow/keras-applications/resnet/resnet50_weights_tf_dim_ordering_tf_kernels_notop.h5\n",
            "94773248/94765736 [==============================] - 2s 0us/step\n",
            "WARNING:tensorflow:From <ipython-input-4-62a870facebd>:8: Model.fit_generator (from tensorflow.python.keras.engine.training) is deprecated and will be removed in a future version.\n",
            "Instructions for updating:\n",
            "Please use Model.fit, which supports generators.\n",
            "Epoch 1/5\n",
            "390/390 [==============================] - 11s 29ms/step - loss: 2.1310 - accuracy: 0.3929\n",
            "Epoch 2/5\n",
            "390/390 [==============================] - 11s 29ms/step - loss: 1.2807 - accuracy: 0.5806\n",
            "Epoch 3/5\n",
            "390/390 [==============================] - 11s 29ms/step - loss: 1.1500 - accuracy: 0.6325\n",
            "Epoch 4/5\n",
            "390/390 [==============================] - 11s 29ms/step - loss: 1.2721 - accuracy: 0.6195\n",
            "Epoch 5/5\n",
            "390/390 [==============================] - 11s 29ms/step - loss: 1.3925 - accuracy: 0.5639\n"
          ],
          "name": "stdout"
        }
      ]
    },
    {
      "cell_type": "code",
      "metadata": {
        "id": "vdEGOICmdaWR",
        "outputId": "75164e03-225f-45bd-d3eb-d89fddf37b5d",
        "colab": {
          "base_uri": "https://localhost:8080/",
          "height": 52
        }
      },
      "source": [
        "sgd_result = model.evaluate(test_ds)\n",
        "print(f\"sgd result : {sgd_result}\")"
      ],
      "execution_count": 5,
      "outputs": [
        {
          "output_type": "stream",
          "text": [
            "79/79 [==============================] - 1s 12ms/step - loss: 1.4507 - accuracy: 0.5284\n",
            "sgd result : [1.4506633281707764, 0.5284000039100647]\n"
          ],
          "name": "stdout"
        }
      ]
    },
    {
      "cell_type": "code",
      "metadata": {
        "id": "8_SKdsjMWdqC",
        "outputId": "b31fe561-cea7-4887-afc8-ee52f0edce40",
        "colab": {
          "base_uri": "https://localhost:8080/",
          "height": 193
        }
      },
      "source": [
        "sgd = tf.keras.optimizers.SGD(learning_rate,momentum=0.9)\n",
        "swa = tfa.optimizers.SWA(sgd, start_averaging=0, average_period=10)\n",
        "model = create_model(swa)\n",
        "\n",
        "sgd_swa_hist = model.fit_generator(\n",
        "    train_ds,\n",
        "    steps_per_epoch=steps_per_epoch,\n",
        "    validation_steps=validation_steps,\n",
        "    epochs=num_epochs,\n",
        ")"
      ],
      "execution_count": 6,
      "outputs": [
        {
          "output_type": "stream",
          "text": [
            "Epoch 1/5\n",
            "390/390 [==============================] - 18s 47ms/step - loss: 2.0740 - accuracy: 0.4223\n",
            "Epoch 2/5\n",
            "390/390 [==============================] - 19s 49ms/step - loss: 1.4446 - accuracy: 0.5287\n",
            "Epoch 3/5\n",
            "390/390 [==============================] - 18s 47ms/step - loss: 1.4274 - accuracy: 0.5301\n",
            "Epoch 4/5\n",
            "390/390 [==============================] - 20s 51ms/step - loss: 1.4513 - accuracy: 0.5007\n",
            "Epoch 5/5\n",
            "390/390 [==============================] - 19s 48ms/step - loss: 1.2588 - accuracy: 0.5808\n"
          ],
          "name": "stdout"
        }
      ]
    },
    {
      "cell_type": "code",
      "metadata": {
        "id": "J-qgwaw5amhQ",
        "outputId": "3c285cca-4c85-477b-c593-3e458c6d7385",
        "colab": {
          "base_uri": "https://localhost:8080/",
          "height": 52
        }
      },
      "source": [
        "swa_sgd_result = model.evaluate(test_ds)\n",
        "print(f\"SWA sgd result : {swa_sgd_result}\")"
      ],
      "execution_count": 7,
      "outputs": [
        {
          "output_type": "stream",
          "text": [
            "79/79 [==============================] - 1s 14ms/step - loss: 1.4220 - accuracy: 0.5640\n",
            "SWA sgd result : [1.4220163822174072, 0.5640000104904175]\n"
          ],
          "name": "stdout"
        }
      ]
    },
    {
      "cell_type": "code",
      "metadata": {
        "id": "MDiaJ9jse9fs",
        "outputId": "befa39f1-be4e-461e-9a44-e008284800a5",
        "colab": {
          "base_uri": "https://localhost:8080/",
          "height": 193
        }
      },
      "source": [
        "adam = tf.keras.optimizers.Adam(learning_rate)\n",
        "model = create_model(adam)\n",
        "adam_hist = model.fit_generator(\n",
        "    train_ds,\n",
        "    steps_per_epoch=steps_per_epoch,\n",
        "    validation_steps=validation_steps,\n",
        "    epochs=num_epochs,\n",
        ")"
      ],
      "execution_count": 8,
      "outputs": [
        {
          "output_type": "stream",
          "text": [
            "Epoch 1/5\n",
            "390/390 [==============================] - 11s 29ms/step - loss: 5.2783 - accuracy: 0.1312\n",
            "Epoch 2/5\n",
            "390/390 [==============================] - 11s 29ms/step - loss: 1.9922 - accuracy: 0.1908\n",
            "Epoch 3/5\n",
            "390/390 [==============================] - 11s 29ms/step - loss: 1.9401 - accuracy: 0.2030\n",
            "Epoch 4/5\n",
            "390/390 [==============================] - 11s 29ms/step - loss: 1.8554 - accuracy: 0.2246\n",
            "Epoch 5/5\n",
            "390/390 [==============================] - 11s 29ms/step - loss: 1.8221 - accuracy: 0.2521\n"
          ],
          "name": "stdout"
        }
      ]
    },
    {
      "cell_type": "code",
      "metadata": {
        "id": "lu04pjY-ffTY",
        "outputId": "cf47c775-eeb4-442e-bc27-63dd080e10e4",
        "colab": {
          "base_uri": "https://localhost:8080/",
          "height": 52
        }
      },
      "source": [
        "adam_result = model.evaluate(test_ds)\n",
        "print(f\"adam result : {adam_result}\")"
      ],
      "execution_count": 9,
      "outputs": [
        {
          "output_type": "stream",
          "text": [
            "79/79 [==============================] - 1s 11ms/step - loss: 2.3042 - accuracy: 0.2089\n",
            "adam result : [2.3042259216308594, 0.20890000462532043]\n"
          ],
          "name": "stdout"
        }
      ]
    },
    {
      "cell_type": "code",
      "metadata": {
        "id": "zUJDBRkIfdhL",
        "outputId": "79dd315c-3a5a-4c59-fae3-aba361a2f028",
        "colab": {
          "base_uri": "https://localhost:8080/",
          "height": 193
        }
      },
      "source": [
        "adam = tf.keras.optimizers.Adam(learning_rate)\n",
        "swa = tfa.optimizers.SWA(adam, start_averaging=0, average_period=10)\n",
        "model = create_model(swa)\n",
        "model.compile(optimizer=swa,  # Optimization\n",
        "                    loss='sparse_categorical_crossentropy',  # Loss Function\n",
        "                    metrics=['accuracy'])\n",
        "\n",
        "\n",
        "adam_swa_hist = model.fit_generator(\n",
        "    train_ds,\n",
        "    steps_per_epoch=steps_per_epoch,\n",
        "    validation_steps=validation_steps,\n",
        "    epochs=num_epochs,\n",
        ")"
      ],
      "execution_count": 15,
      "outputs": [
        {
          "output_type": "stream",
          "text": [
            "Epoch 1/5\n",
            "390/390 [==============================] - 22s 57ms/step - loss: 5.3066 - accuracy: 0.1190\n",
            "Epoch 2/5\n",
            "390/390 [==============================] - 22s 57ms/step - loss: 1.9896 - accuracy: 0.1966\n",
            "Epoch 3/5\n",
            "390/390 [==============================] - 22s 57ms/step - loss: 1.8637 - accuracy: 0.2409\n",
            "Epoch 4/5\n",
            "390/390 [==============================] - 22s 58ms/step - loss: 1.8331 - accuracy: 0.2726\n",
            "Epoch 5/5\n",
            "390/390 [==============================] - 22s 57ms/step - loss: 1.7717 - accuracy: 0.2990\n"
          ],
          "name": "stdout"
        }
      ]
    },
    {
      "cell_type": "code",
      "metadata": {
        "id": "9OGN0KUkf5ta",
        "outputId": "03827097-0b1b-464b-bcb1-fa489317b9e4",
        "colab": {
          "base_uri": "https://localhost:8080/",
          "height": 52
        }
      },
      "source": [
        "swa_adam_result = model.evaluate(test_ds)\n",
        "print(f\"SWA adam result : {swa_adam_result}\")"
      ],
      "execution_count": 16,
      "outputs": [
        {
          "output_type": "stream",
          "text": [
            "79/79 [==============================] - 1s 14ms/step - loss: 1.9399 - accuracy: 0.2612\n",
            "SWA adam result : [1.9399105310440063, 0.2612000107765198]\n"
          ],
          "name": "stdout"
        }
      ]
    },
    {
      "cell_type": "code",
      "metadata": {
        "id": "EwuOp1Y8glwY",
        "outputId": "92c976cb-41b3-4746-8555-df10a2b1513c",
        "colab": {
          "base_uri": "https://localhost:8080/",
          "height": 573
        }
      },
      "source": [
        "plt.style.use('seaborn-pastel')\n",
        "plt.figure(figsize = (20,10))\n",
        "plt.subplot(1,2,1)\n",
        "plt.plot(adam_hist.history['accuracy'],label='adam')\n",
        "plt.plot(adam_swa_hist.history['accuracy'],label='swa_adam')\n",
        "plt.xlabel('epochs')\n",
        "plt.ylabel('accuracy')\n",
        "plt.legend()\n",
        "plt.subplot(1,2,2)\n",
        "plt.plot(sgd_hist.history['accuracy'],label='sgd')\n",
        "plt.plot(sgd_swa_hist.history['accuracy'],label='swa_sgd')\n",
        "plt.ylabel('accuracy')\n",
        "plt.xlabel('epochs')\n",
        "plt.legend()\n",
        "plt.show()"
      ],
      "execution_count": 17,
      "outputs": [
        {
          "output_type": "display_data",
          "data": {
            "image/png": "[encoded data removed]",
            "text/plain": [
              "<Figure size 1440x720 with 2 Axes>"
            ]
          },
          "metadata": {
            "tags": [],
            "needs_background": "light"
          }
        }
      ]
    },
    {
      "cell_type": "code",
      "metadata": {
        "id": "IUgZUudKcHm2",
        "outputId": "1747d913-168d-4b82-d782-f9095cad2415",
        "colab": {
          "base_uri": "https://localhost:8080/",
          "height": 34
        }
      },
      "source": [
        "print(f\"adam:{adam_result[1]:.2f}, swa_adam:{swa_adam_result[1]:.2f}, sgd:{sgd_result[1]:.2f}, swa_sgd:{swa_sgd_result[1]:.2f}\")"
      ],
      "execution_count": 18,
      "outputs": [
        {
          "output_type": "stream",
          "text": [
            "adam:0.21, swa_adam:0.26, sgd:0.53, swa_sgd:0.56\n"
          ],
          "name": "stdout"
        }
      ]
    }
  ]
}