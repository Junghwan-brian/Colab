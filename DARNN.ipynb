{
  "nbformat": 4,
  "nbformat_minor": 0,
  "metadata": {
    "colab": {
      "name": "DARNN.ipynb",
      "provenance": [],
      "authorship_tag": "ABX9TyP6h2ivNpdWgOgdQk2/ZOfU",
      "include_colab_link": true
    },
    "kernelspec": {
      "name": "python3",
      "display_name": "Python 3"
    },
    "accelerator": "GPU"
  },
  "cells": [
    {
      "cell_type": "markdown",
      "metadata": {
        "id": "view-in-github",
        "colab_type": "text"
      },
      "source": [
        "<a href=\"https://colab.research.google.com/github/Junghwan-brian/Colab/blob/main/DARNN.ipynb\" target=\"_parent\"><img src=\"https://colab.research.google.com/assets/colab-badge.svg\" alt=\"Open In Colab\"/></a>"
      ]
    },
    {
      "cell_type": "code",
      "metadata": {
        "id": "Xx0E4OFDKWlS",
        "outputId": "aec043f5-6a59-4a97-cd5d-04a8ae3f31c9",
        "colab": {
          "base_uri": "https://localhost:8080/"
        }
      },
      "source": [
        "!nvidia-smi"
      ],
      "execution_count": 1,
      "outputs": [
        {
          "output_type": "stream",
          "text": [
            "Thu Nov  5 02:40:35 2020       \n",
            "+-----------------------------------------------------------------------------+\n",
            "| NVIDIA-SMI 455.32.00    Driver Version: 418.67       CUDA Version: 10.1     |\n",
            "|-------------------------------+----------------------+----------------------+\n",
            "| GPU  Name        Persistence-M| Bus-Id        Disp.A | Volatile Uncorr. ECC |\n",
            "| Fan  Temp  Perf  Pwr:Usage/Cap|         Memory-Usage | GPU-Util  Compute M. |\n",
            "|                               |                      |               MIG M. |\n",
            "|===============================+======================+======================|\n",
            "|   0  Tesla P100-PCIE...  Off  | 00000000:00:04.0 Off |                    0 |\n",
            "| N/A   34C    P0    25W / 250W |      0MiB / 16280MiB |      0%      Default |\n",
            "|                               |                      |                 ERR! |\n",
            "+-------------------------------+----------------------+----------------------+\n",
            "                                                                               \n",
            "+-----------------------------------------------------------------------------+\n",
            "| Processes:                                                                  |\n",
            "|  GPU   GI   CI        PID   Type   Process name                  GPU Memory |\n",
            "|        ID   ID                                                   Usage      |\n",
            "|=============================================================================|\n",
            "|  No running processes found                                                 |\n",
            "+-----------------------------------------------------------------------------+\n"
          ],
          "name": "stdout"
        }
      ]
    },
    {
      "cell_type": "code",
      "metadata": {
        "id": "7uH_PSSnKdJf",
        "outputId": "55c3be64-372b-481c-8237-639aa2001d4c",
        "colab": {
          "base_uri": "https://localhost:8080/"
        }
      },
      "source": [
        "from google.colab import drive\n",
        "drive.mount('/content/drive')"
      ],
      "execution_count": 2,
      "outputs": [
        {
          "output_type": "stream",
          "text": [
            "Drive already mounted at /content/drive; to attempt to forcibly remount, call drive.mount(\"/content/drive\", force_remount=True).\n"
          ],
          "name": "stdout"
        }
      ]
    },
    {
      "cell_type": "code",
      "metadata": {
        "id": "kRFdfN9NFznA"
      },
      "source": [
        "import numpy as np\n",
        "import tensorflow as tf\n",
        "import matplotlib.pyplot as plt\n",
        "import matplotlib.font_manager as fm\n",
        "from matplotlib import rc\n",
        "%matplotlib inline\n",
        "T = 5\n",
        "m = 32\n",
        "p = 32\n",
        "train_num = 78186 - 10000 # 10000개 test\n",
        "batch_size = 512\n",
        "enc_Data = np.load(\"drive/My Drive/DARNN/data/encoder_data.npy\")\n",
        "dec_Data = np.load(\"drive/My Drive/DARNN/data/decoder_data.npy\")\n",
        "target = np.load(\"drive/My Drive/DARNN/data/target.npy\")"
      ],
      "execution_count": 3,
      "outputs": []
    },
    {
      "cell_type": "code",
      "metadata": {
        "id": "6O3fuHzOKXmV"
      },
      "source": [
        "from tensorflow.keras.layers import *\n",
        "from tensorflow.keras.models import Model\n",
        "\n",
        "\n",
        "class Encoderlstm(Layer):\n",
        "    def __init__(self, m):\n",
        "        \"\"\"\n",
        "        m : feature dimension\n",
        "        h0 : initial hidden state\n",
        "        c0 : initial cell state\n",
        "        \"\"\"\n",
        "        super(Encoderlstm, self).__init__(name=\"encoder_lstm\")\n",
        "        self.lstm = LSTM(m, return_state=True)\n",
        "        self.initial_state = None\n",
        "\n",
        "    def call(self, x, training=False):\n",
        "        \"\"\"\n",
        "        x : t 번째 input data (shape = batch,1,n)\n",
        "        \"\"\"\n",
        "        h_s, _, c_s = self.lstm(x, initial_state=self.initial_state)\n",
        "        self.initial_state = [h_s, c_s]\n",
        "        return h_s, c_s\n",
        "\n",
        "    def reset_state(self, h0, c0):\n",
        "        self.initial_state = [h0, c0]\n",
        "\n",
        "\n",
        "class InputAttention(Layer):\n",
        "    def __init__(self, T):\n",
        "        super(InputAttention, self).__init__(name=\"input_attention\")\n",
        "        self.w1 = Dense(T)\n",
        "        self.w2 = Dense(T)\n",
        "        self.v = Dense(1)\n",
        "\n",
        "    def call(self, h_s, c_s, x):\n",
        "        \"\"\"\n",
        "        h_s : hidden_state (shape = batch,m)\n",
        "        c_s : cell_state (shape = batch,m)\n",
        "        x : time series encoder inputs (shape = batch,T,n)\n",
        "        \"\"\"\n",
        "        query = tf.concat([h_s, c_s], axis=-1)  # batch, m*2\n",
        "        query = RepeatVector(x.shape[2])(query)  # batch, n, m*2\n",
        "        x_perm = Permute((2, 1))(x)  # batch, n, T\n",
        "        score = tf.nn.tanh(self.w1(x_perm) + self.w2(query))  # batch, n, T\n",
        "        score = self.v(score)  # batch, n, 1\n",
        "        score = Permute((2, 1))(score)  # batch,1,n\n",
        "        attention_weights = tf.nn.softmax(score)  # t 번째 time step 일 때 각 feature 별 중요도\n",
        "        return attention_weights\n",
        "\n",
        "\n",
        "class Encoder(Layer):\n",
        "    def __init__(self, T, m):\n",
        "        super(Encoder, self).__init__(name=\"encoder\")\n",
        "        self.T = T\n",
        "        self.input_att = InputAttention(T)\n",
        "        self.lstm = Encoderlstm(m)\n",
        "        self.initial_state = None\n",
        "        self.alpha_t = None\n",
        "\n",
        "    def call(self, data, h0, c0, n=39, training=False):\n",
        "        \"\"\"\n",
        "        data : encoder data (shape = batch, T, n)\n",
        "        n : data feature num\n",
        "        \"\"\"\n",
        "        self.lstm.reset_state(h0=h0, c0=c0)\n",
        "        alpha_seq = tf.TensorArray(tf.float32, self.T)\n",
        "        for t in range(self.T):\n",
        "            x = Lambda(lambda x: data[:, t, :])(data)\n",
        "            x = x[:, tf.newaxis, :]  # (batch,1,n)\n",
        "\n",
        "            h_s, c_s = self.lstm(x)\n",
        "\n",
        "            self.alpha_t = self.input_att(h_s, c_s, data)  # batch,1,n\n",
        "\n",
        "            alpha_seq = alpha_seq.write(t, self.alpha_t)\n",
        "        alpha_seq = tf.reshape(alpha_seq.stack(), (-1, self.T, n))  # batch, T, n\n",
        "        output = tf.multiply(data, alpha_seq)  # batch, T, n\n",
        "\n",
        "        return output\n",
        "\n",
        "\n",
        "class Decoderlstm(Layer):\n",
        "    def __init__(self, p):\n",
        "        \"\"\"\n",
        "        p : feature dimension\n",
        "        h0 : initial hidden state\n",
        "        c0 : initial cell state\n",
        "        \"\"\"\n",
        "        super(Decoderlstm, self).__init__(name=\"decoder_lstm\")\n",
        "        self.lstm = LSTM(p, return_state=True)\n",
        "        self.initial_state = None\n",
        "\n",
        "    def call(self, x, training=False):\n",
        "        \"\"\"\n",
        "        x : t 번째 input data (shape = batch,1,n)\n",
        "        \"\"\"\n",
        "        h_s, _, c_s = self.lstm(x, initial_state=self.initial_state)\n",
        "        self.initial_state = [h_s, c_s]\n",
        "        return h_s, c_s\n",
        "\n",
        "    def reset_state(self, h0, c0):\n",
        "        self.initial_state = [h0, c0]\n",
        "\n",
        "\n",
        "class TemporalAttention(Layer):\n",
        "    def __init__(self, m):\n",
        "        super(TemporalAttention, self).__init__(name=\"temporal_attention\")\n",
        "        self.w1 = Dense(m)\n",
        "        self.w2 = Dense(m)\n",
        "        self.v = Dense(1)\n",
        "\n",
        "    def call(self, h_s, c_s, enc_h):\n",
        "        \"\"\"\n",
        "        h_s : hidden_state (shape = batch,p)\n",
        "        c_s : cell_state (shape = batch,p)\n",
        "        enc_h : time series encoder inputs (shape = batch,T,m)\n",
        "        \"\"\"\n",
        "        query = tf.concat([h_s, c_s], axis=-1)  # batch, p*2\n",
        "        query = RepeatVector(enc_h.shape[1])(query)\n",
        "        score = tf.nn.tanh(self.w1(enc_h) + self.w2(query))  # batch, T, m\n",
        "        score = self.v(score)  # batch, T, 1\n",
        "        attention_weights = tf.nn.softmax(\n",
        "            score, axis=1\n",
        "        )  # encoder hidden state h(i) 의 중요성 (0<=i<=T)\n",
        "        return attention_weights\n",
        "\n",
        "\n",
        "class Decoder(Layer):\n",
        "    def __init__(self, T, p, m):\n",
        "        super(Decoder, self).__init__(name=\"decoder\")\n",
        "        self.T = T\n",
        "        self.temp_att = TemporalAttention(m)\n",
        "        self.dense = Dense(1)\n",
        "        self.lstm = Decoderlstm(p)\n",
        "        self.enc_lstm_dim = m\n",
        "        self.dec_lstm_dim = p\n",
        "        self.context_v = None\n",
        "        self.dec_h_s = None\n",
        "        self.beta_t = None\n",
        "\n",
        "    def call(self, data, enc_h, h0=None, c0=None, training=False):\n",
        "        \"\"\"\n",
        "        data : decoder data (shape = batch, T-1, 1)\n",
        "        enc_h : encoder hidden state (shape = batch, T, m)\n",
        "        \"\"\"\n",
        "        h_s = None\n",
        "        self.lstm.reset_state(h0=h0, c0=c0)\n",
        "        self.context_v = tf.zeros((enc_h.shape[0], 1, self.enc_lstm_dim))  # batch,1,m\n",
        "        self.dec_h_s = tf.zeros((enc_h.shape[0], self.dec_lstm_dim))  # batch, p\n",
        "        for t in range(self.T - 1):  # 0~T-1\n",
        "            x = Lambda(lambda x: data[:, t, :])(data)\n",
        "            x = x[:, tf.newaxis, :]  #  (batch,1,1)\n",
        "            x = tf.concat([x, self.context_v], axis=-1)  # batch, 1, m+1\n",
        "            x = self.dense(x)  # batch,1,1\n",
        "\n",
        "            h_s, c_s = self.lstm(x)  # batch,p\n",
        "\n",
        "            self.beta_t = self.temp_att(h_s, c_s, enc_h)  # batch, T, 1\n",
        "\n",
        "            self.context_v = tf.matmul(\n",
        "                self.beta_t, enc_h, transpose_a=True\n",
        "            )  # batch,1,m\n",
        "        return tf.concat(\n",
        "            [h_s[:, tf.newaxis, :], self.context_v], axis=-1\n",
        "        )  # batch,1,m+p\n",
        "\n",
        "\n",
        "class DARNN(Model):\n",
        "    def __init__(self, T, m, p):\n",
        "        super(DARNN, self).__init__(name=\"DARNN\")\n",
        "        \"\"\"\n",
        "        T : 주기 (time series length)\n",
        "        m : encoder lstm feature length\n",
        "        p : decoder lstm feature length\n",
        "        h0 : lstm initial hidden state\n",
        "        c0 : lstm initial cell state\n",
        "        \"\"\"\n",
        "        self.m = m\n",
        "        self.encoder = Encoder(T=T, m=m)\n",
        "        self.decoder = Decoder(T=T, p=p, m=m)\n",
        "        self.lstm = LSTM(m, return_sequences=True)\n",
        "        self.dense1 = Dense(p)\n",
        "        self.dense2 = Dense(1)\n",
        "\n",
        "    def call(self, inputs, training=False, mask=None):\n",
        "        \"\"\"\n",
        "        inputs : [enc , dec]\n",
        "        enc_data : batch,T,n\n",
        "        dec_data : batch,T-1,1\n",
        "        \"\"\"\n",
        "        enc_data, dec_data = inputs\n",
        "        batch = enc_data.shape[0]\n",
        "        h0 = tf.zeros((batch, self.m))\n",
        "        c0 = tf.zeros((batch, self.m))\n",
        "        enc_output = self.encoder(\n",
        "            enc_data, n=39, h0=h0, c0=c0, training=training\n",
        "        )  # batch, T, n\n",
        "        enc_h = self.lstm(enc_output)  # batch, T, m\n",
        "        dec_output = self.decoder(\n",
        "            dec_data, enc_h, h0=h0, c0=c0, training=training\n",
        "        )  # batch,1,m+p\n",
        "        output = self.dense2(self.dense1(dec_output))\n",
        "        output = tf.squeeze(output)\n",
        "        return output"
      ],
      "execution_count": 4,
      "outputs": []
    },
    {
      "cell_type": "code",
      "metadata": {
        "id": "xAi-C_pdXyw3",
        "outputId": "ec4700dd-5508-4117-8c44-d4600fe9cda1",
        "colab": {
          "base_uri": "https://localhost:8080/"
        }
      },
      "source": [
        "model = DARNN(T=T, m=m, p=p,)\n",
        "\n",
        "train_ds = (\n",
        "    tf.data.Dataset.from_tensor_slices(\n",
        "        (enc_Data[:train_num], dec_Data[:train_num], target[:train_num])\n",
        "    )\n",
        "    .batch(batch_size)\n",
        "    .shuffle(buffer_size=train_num)\n",
        "    .prefetch(tf.data.experimental.AUTOTUNE)\n",
        ")\n",
        "\n",
        "\n",
        "\n",
        "@tf.function\n",
        "def train_step(model, inputs, labels, loss_fn, optimizer, train_loss):\n",
        "    with tf.GradientTape() as tape:\n",
        "        prediction = model(inputs, training=True)\n",
        "        loss = loss_fn(labels, prediction)\n",
        "    gradients = tape.gradient(loss, model.trainable_variables)\n",
        "    optimizer.apply_gradients(zip(gradients, model.trainable_variables))\n",
        "    train_loss(loss)\n",
        "\n",
        "\n",
        "@tf.function\n",
        "def test_step(model, inputs, labels, loss_fn, test_loss):\n",
        "    prediction = model(inputs, training=False)\n",
        "    loss = loss_fn(labels, prediction)\n",
        "    test_loss(loss)\n",
        "    return prediction\n",
        "\n",
        "\n",
        "loss_fn = tf.keras.losses.MSE\n",
        "\n",
        "optimizer = tf.keras.optimizers.Adam(0.001)\n",
        "train_loss = tf.keras.metrics.Mean(name=\"train_loss\")\n",
        "test_loss = tf.keras.metrics.Mean(name=\"test_loss\")\n",
        "train_accuracy = tf.keras.metrics.Accuracy(name=\"train_accuracy\")\n",
        "test_accuracy = tf.keras.metrics.Accuracy(name=\"test_accuracy\")\n",
        "Epochs = 100\n",
        "for epoch in range(Epochs):\n",
        "    for enc_data, dec_data, labels in train_ds:\n",
        "        inputs = [enc_data, dec_data]\n",
        "        train_step(model, inputs, labels, loss_fn, optimizer, train_loss)\n",
        "\n",
        "    template = \"Epoch {}, Loss: {}\"\n",
        "    print(template.format(epoch + 1, train_loss.result()))\n",
        "    train_loss.reset_states()\n",
        "    test_loss.reset_states()"
      ],
      "execution_count": 17,
      "outputs": [
        {
          "output_type": "stream",
          "text": [
            "WARNING:tensorflow:Layer DARNN is casting an input tensor from dtype float64 to the layer's dtype of float32, which is new behavior in TensorFlow 2.  The layer has dtype float32 because its dtype defaults to floatx.\n",
            "\n",
            "If you intended to run this layer in float32, you can safely ignore this warning. If in doubt, this warning is likely only an issue if you are porting a TensorFlow 1.X model to TensorFlow 2.\n",
            "\n",
            "To change all layers to have dtype float64 by default, call `tf.keras.backend.set_floatx('float64')`. To change just this layer, pass dtype='float64' to the layer constructor. If you are the author of this layer, you can disable autocasting by passing autocast=False to the base Layer constructor.\n",
            "\n",
            "Epoch 1, Loss: 190.39271545410156\n",
            "Epoch 2, Loss: 6.867501735687256\n",
            "Epoch 3, Loss: 2.129732608795166\n",
            "Epoch 4, Loss: 1.4130347967147827\n",
            "Epoch 5, Loss: 1.211193561553955\n",
            "Epoch 6, Loss: 1.136572241783142\n",
            "Epoch 7, Loss: 1.1024446487426758\n",
            "Epoch 8, Loss: 1.0605753660202026\n",
            "Epoch 9, Loss: 1.0317325592041016\n",
            "Epoch 10, Loss: 1.0068204402923584\n",
            "Epoch 11, Loss: 1.0014135837554932\n",
            "Epoch 12, Loss: 0.998275876045227\n",
            "Epoch 13, Loss: 0.9836209416389465\n",
            "Epoch 14, Loss: 0.9734103083610535\n",
            "Epoch 15, Loss: 0.9788686037063599\n",
            "Epoch 16, Loss: 0.9711068868637085\n",
            "Epoch 17, Loss: 0.9916994571685791\n",
            "Epoch 18, Loss: 0.9751148223876953\n",
            "Epoch 19, Loss: 0.9918351769447327\n",
            "Epoch 20, Loss: 0.9598382115364075\n",
            "Epoch 21, Loss: 0.9667301177978516\n",
            "Epoch 22, Loss: 0.9595426917076111\n",
            "Epoch 23, Loss: 0.9654353260993958\n",
            "Epoch 24, Loss: 0.9551122784614563\n",
            "Epoch 25, Loss: 0.9495445489883423\n",
            "Epoch 26, Loss: 0.9575856924057007\n",
            "Epoch 27, Loss: 0.9583602547645569\n",
            "Epoch 28, Loss: 0.9456551671028137\n",
            "Epoch 29, Loss: 0.9491389989852905\n",
            "Epoch 30, Loss: 0.9408028721809387\n",
            "Epoch 31, Loss: 0.9653205275535583\n",
            "Epoch 32, Loss: 0.9422968029975891\n",
            "Epoch 33, Loss: 0.9529486894607544\n",
            "Epoch 34, Loss: 0.9623221755027771\n",
            "Epoch 35, Loss: 0.9528719186782837\n",
            "Epoch 36, Loss: 0.9389333128929138\n",
            "Epoch 37, Loss: 0.9284262657165527\n",
            "Epoch 38, Loss: 0.9498797059059143\n",
            "Epoch 39, Loss: 0.9355722069740295\n",
            "Epoch 40, Loss: 0.9621515870094299\n",
            "Epoch 41, Loss: 0.9431344270706177\n",
            "Epoch 42, Loss: 0.9275176525115967\n",
            "Epoch 43, Loss: 0.9314353466033936\n",
            "Epoch 44, Loss: 0.9334399104118347\n",
            "Epoch 45, Loss: 0.9445631504058838\n",
            "Epoch 46, Loss: 0.933725118637085\n",
            "Epoch 47, Loss: 0.9345904588699341\n",
            "Epoch 48, Loss: 0.9124447703361511\n",
            "Epoch 49, Loss: 0.9163616299629211\n",
            "Epoch 50, Loss: 0.9208648204803467\n",
            "Epoch 51, Loss: 0.9267514944076538\n",
            "Epoch 52, Loss: 0.9177107214927673\n",
            "Epoch 53, Loss: 0.9081318378448486\n",
            "Epoch 54, Loss: 0.9059663414955139\n",
            "Epoch 55, Loss: 0.8949205279350281\n",
            "Epoch 56, Loss: 0.9210676550865173\n",
            "Epoch 57, Loss: 0.8891510367393494\n",
            "Epoch 58, Loss: 0.9045721888542175\n",
            "Epoch 59, Loss: 0.9199169874191284\n",
            "Epoch 60, Loss: 0.9059746861457825\n",
            "Epoch 61, Loss: 0.8869845271110535\n",
            "Epoch 62, Loss: 0.8879455327987671\n",
            "Epoch 63, Loss: 0.8988578915596008\n",
            "Epoch 64, Loss: 0.8862383365631104\n",
            "Epoch 65, Loss: 0.8860493302345276\n",
            "Epoch 66, Loss: 0.8827135562896729\n",
            "Epoch 67, Loss: 0.8740214705467224\n",
            "Epoch 68, Loss: 0.877760648727417\n",
            "Epoch 69, Loss: 0.8931459784507751\n",
            "Epoch 70, Loss: 0.8963966369628906\n",
            "Epoch 71, Loss: 0.8717547059059143\n",
            "Epoch 72, Loss: 0.8951065540313721\n",
            "Epoch 73, Loss: 0.8650664687156677\n",
            "Epoch 74, Loss: 0.8516086935997009\n",
            "Epoch 75, Loss: 0.8592782616615295\n",
            "Epoch 76, Loss: 0.8685223460197449\n",
            "Epoch 77, Loss: 0.865752637386322\n",
            "Epoch 78, Loss: 0.8571208715438843\n",
            "Epoch 79, Loss: 0.8644562363624573\n",
            "Epoch 80, Loss: 0.8846009969711304\n",
            "Epoch 81, Loss: 0.8450781106948853\n",
            "Epoch 82, Loss: 0.8489259481430054\n",
            "Epoch 83, Loss: 0.8546560406684875\n",
            "Epoch 84, Loss: 0.8468679785728455\n",
            "Epoch 85, Loss: 0.8529430627822876\n",
            "Epoch 86, Loss: 0.8586783409118652\n",
            "Epoch 87, Loss: 0.83758944272995\n",
            "Epoch 88, Loss: 0.8435181975364685\n",
            "Epoch 89, Loss: 0.8458996415138245\n",
            "Epoch 90, Loss: 0.8423309326171875\n",
            "Epoch 91, Loss: 0.8590348362922668\n",
            "Epoch 92, Loss: 0.8412309885025024\n",
            "Epoch 93, Loss: 0.8549920916557312\n",
            "Epoch 94, Loss: 0.8453739285469055\n",
            "Epoch 95, Loss: 0.8349140882492065\n",
            "Epoch 96, Loss: 0.8376522064208984\n",
            "Epoch 97, Loss: 0.830665647983551\n",
            "Epoch 98, Loss: 0.8393245935440063\n",
            "Epoch 99, Loss: 0.8517609238624573\n",
            "Epoch 100, Loss: 0.8291054368019104\n"
          ],
          "name": "stdout"
        }
      ]
    },
    {
      "cell_type": "code",
      "metadata": {
        "id": "gI1pAq-5Gwfx",
        "outputId": "4f712b56-c0c1-42f9-932f-2678369d0f01",
        "colab": {
          "base_uri": "https://localhost:8080/"
        }
      },
      "source": [
        "test_ds = tf.data.Dataset.from_tensor_slices(\n",
        "    (enc_Data[train_num:], dec_Data[train_num:], target[train_num:])\n",
        ").batch(2048)\n",
        "i = 0\n",
        "for enc_data, dec_data, label in test_ds:\n",
        "    inputs = [enc_data, dec_data]\n",
        "    pred = test_step(model, inputs, label, loss_fn, test_loss)\n",
        "    if i == 0:\n",
        "        preds = pred.numpy()\n",
        "        labels = label.numpy()\n",
        "        i += 1\n",
        "    else:\n",
        "        preds = np.concatenate([preds, pred.numpy()], axis=0)\n",
        "        labels = np.concatenate([labels, label.numpy()], axis=0)\n",
        "print(test_loss.result(), test_accuracy.result() * 100)"
      ],
      "execution_count": 18,
      "outputs": [
        {
          "output_type": "stream",
          "text": [
            "tf.Tensor(1.3636577, shape=(), dtype=float32) tf.Tensor(0.0, shape=(), dtype=float32)\n"
          ],
          "name": "stdout"
        }
      ]
    },
    {
      "cell_type": "code",
      "metadata": {
        "id": "qUQ9rAQ1G-9b",
        "outputId": "bc8aafa5-fdeb-42ef-cfba-592f22ceb987",
        "colab": {
          "base_uri": "https://localhost:8080/",
          "height": 554
        }
      },
      "source": [
        "preds = np.array(preds)\n",
        "labels = np.array(labels)\n",
        "plt.scatter(preds, labels, color=\"orange\")\n",
        "plt.xlabel(\"pred\")\n",
        "plt.ylabel(\"label\")\n",
        "plt.show()\n",
        "\n",
        "enc_data, dec_data, label = next(iter(test_ds))\n",
        "inputs = [enc_data, dec_data]\n",
        "\n",
        "pred = model(inputs)\n",
        "beta = []\n",
        "for i in range(5):\n",
        "    beta.append(np.mean(model.decoder.beta_t[:, i, 0].numpy()))\n",
        "plt.bar(x=range(5), height=beta, color=\"orange\")\n",
        "plt.style.use(\"seaborn-pastel\")\n",
        "plt.title(\"Beta\")\n",
        "plt.xlabel(\"time\")\n",
        "plt.ylabel(\"prob\")\n",
        "plt.show()"
      ],
      "execution_count": 19,
      "outputs": [
        {
          "output_type": "display_data",
          "data": {
            "image/png": "[encoded data removed]",
            "text/plain": [
              "<Figure size 432x288 with 1 Axes>"
            ]
          },
          "metadata": {
            "tags": [],
            "needs_background": "light"
          }
        },
        {
          "output_type": "display_data",
          "data": {
            "image/png": "[encoded data removed]",
            "text/plain": [
              "<Figure size 432x288 with 1 Axes>"
            ]
          },
          "metadata": {
            "tags": [],
            "needs_background": "light"
          }
        }
      ]
    },
    {
      "cell_type": "code",
      "metadata": {
        "id": "a96Qi50kHPRv",
        "outputId": "894882e0-4a29-4cd6-b008-2d712919fe0a",
        "colab": {
          "base_uri": "https://localhost:8080/"
        }
      },
      "source": [
        "!apt-get update -qq\n",
        "!apt-get install fonts-nanum* -qq\n",
        "path = '/usr/share/fonts/truetype/nanum/NanumGothicEco.ttf'  # 설치된 나눔글꼴중 원하는 녀석의 전체 경로를 가져오자\n",
        "font_name = fm.FontProperties(fname=path, size=10).get_name()\n",
        "print(font_name)\n",
        "rc('font', family=font_name)\n",
        "fm._rebuild()"
      ],
      "execution_count": 20,
      "outputs": [
        {
          "output_type": "stream",
          "text": [
            "NanumGothic Eco\n"
          ],
          "name": "stdout"
        }
      ]
    },
    {
      "cell_type": "code",
      "metadata": {
        "id": "ZDasUUw3NH4w",
        "outputId": "0f4cc6af-c984-4d21-f3ab-a71bcf8fed8e",
        "colab": {
          "base_uri": "https://localhost:8080/"
        }
      },
      "source": [
        "def current_font():\n",
        "  print(f\"설정 폰트 글꼴: {plt.rcParams['font.family']}, 설정 폰트 사이즈: {plt.rcParams['font.size']}\")  # 파이썬 3.6 이상 사용가능하다\n",
        "        \n",
        "current_font()"
      ],
      "execution_count": 21,
      "outputs": [
        {
          "output_type": "stream",
          "text": [
            "설정 폰트 글꼴: ['NanumGothic Eco'], 설정 폰트 사이즈: 10.0\n"
          ],
          "name": "stdout"
        }
      ]
    },
    {
      "cell_type": "code",
      "metadata": {
        "id": "7Re1Iqb4HA-M",
        "outputId": "f6ede519-169d-415c-a755-d54d6abd341e",
        "colab": {
          "base_uri": "https://localhost:8080/",
          "height": 962
        }
      },
      "source": [
        "variable_dict = {\n",
        "    \"기온\": [\"0\", \"7\", \"28\", \"31\", \"32\"],\n",
        "    \"현지기압\": [\"1\", \"6\", \"22\", \"27\", \"29\"],\n",
        "    \"풍속\": [\"2\", \"3\", \"18\", \"24\", \"26\"],\n",
        "    \"일일 누적강수량\": [\"4\", \"10\", \"21\", \"36\", \"39\"],\n",
        "    \"해면기압\": [\"5\", \"8\", \"9\", \"23\", \"33\"],\n",
        "    \"일일 누적일사량\": [\"11\", \"14\", \"16\", \"19\", \"34\"],\n",
        "    \"습도\": [\"12\", \"20\", \"30\", \"37\", \"38\"],\n",
        "    \"풍향\": [\"13\", \"15\", \"17\", \"25\", \"35\"],\n",
        "}\n",
        "variable_key = list(variable_dict.keys())\n",
        "alpha = []\n",
        "variables = []\n",
        "for i in range(39):\n",
        "    alpha.append(np.mean(model.encoder.alpha_t[:, 0, i].numpy()))\n",
        "    for key in variable_key:\n",
        "        if f\"{i}\" in variable_dict[key]:\n",
        "            variables.append(f\"{key}{i}\")\n",
        "plt.figure(figsize=(12, 12))\n",
        "plt.bar(x=variables, height=alpha, color=\"orange\")\n",
        "plt.style.use(\"seaborn-pastel\")\n",
        "plt.title(\"alpha\")\n",
        "plt.xlabel(\"variables\")\n",
        "plt.xticks(rotation=90)\n",
        "plt.ylabel(\"prob\")\n",
        "plt.show()"
      ],
      "execution_count": 22,
      "outputs": [
        {
          "output_type": "display_data",
          "data": {
            "image/png": "[encoded data removed]",
            "text/plain": [
              "<Figure size 1080x1080 with 1 Axes>"
            ]
          },
          "metadata": {
            "tags": [],
            "needs_background": "light"
          }
        }
      ]
    },
    {
      "cell_type": "code",
      "metadata": {
        "id": "rZ8qAiFmMjxQ"
      },
      "source": [
        ""
      ],
      "execution_count": 10,
      "outputs": []
    }
  ]
}