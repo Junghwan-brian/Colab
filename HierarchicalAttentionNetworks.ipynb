{
  "nbformat": 4,
  "nbformat_minor": 0,
  "metadata": {
    "colab": {
      "name": "HAN.ipynb",
      "provenance": [],
      "collapsed_sections": [],
      "mount_file_id": "10khFWKHQMOFEu8C89b6JG0pxxGgzkW6D",
      "authorship_tag": "ABX9TyM8a2V1pND2RIIu8qGf9CDz",
      "include_colab_link": true
    },
    "kernelspec": {
      "name": "python3",
      "display_name": "Python 3"
    },
    "accelerator": "GPU"
  },
  "cells": [
    {
      "cell_type": "markdown",
      "metadata": {
        "id": "view-in-github",
        "colab_type": "text"
      },
      "source": [
        "<a href=\"https://colab.research.google.com/github/Junghwan-brian/Colab/blob/main/HierarchicalAttentionNetworks.ipynb\" target=\"_parent\"><img src=\"https://colab.research.google.com/assets/colab-badge.svg\" alt=\"Open In Colab\"/></a>"
      ]
    },
    {
      "cell_type": "code",
      "metadata": {
        "colab": {
          "base_uri": "https://localhost:8080/"
        },
        "id": "Aa6-PSkO52GB",
        "outputId": "72bc072f-d85e-4b0d-e13e-5da47f59b397"
      },
      "source": [
        "!nvidia-smi"
      ],
      "execution_count": 20,
      "outputs": [
        {
          "output_type": "stream",
          "text": [
            "Wed Dec  2 06:48:12 2020       \n",
            "+-----------------------------------------------------------------------------+\n",
            "| NVIDIA-SMI 455.38       Driver Version: 418.67       CUDA Version: 10.1     |\n",
            "|-------------------------------+----------------------+----------------------+\n",
            "| GPU  Name        Persistence-M| Bus-Id        Disp.A | Volatile Uncorr. ECC |\n",
            "| Fan  Temp  Perf  Pwr:Usage/Cap|         Memory-Usage | GPU-Util  Compute M. |\n",
            "|                               |                      |               MIG M. |\n",
            "|===============================+======================+======================|\n",
            "|   0  Tesla T4            Off  | 00000000:00:04.0 Off |                    0 |\n",
            "| N/A   62C    P0    30W /  70W |   1127MiB / 15079MiB |      0%      Default |\n",
            "|                               |                      |                 ERR! |\n",
            "+-------------------------------+----------------------+----------------------+\n",
            "                                                                               \n",
            "+-----------------------------------------------------------------------------+\n",
            "| Processes:                                                                  |\n",
            "|  GPU   GI   CI        PID   Type   Process name                  GPU Memory |\n",
            "|        ID   ID                                                   Usage      |\n",
            "|=============================================================================|\n",
            "|  No running processes found                                                 |\n",
            "+-----------------------------------------------------------------------------+\n"
          ],
          "name": "stdout"
        }
      ]
    },
    {
      "cell_type": "code",
      "metadata": {
        "colab": {
          "base_uri": "https://localhost:8080/"
        },
        "id": "UsGFoa_h57sY",
        "outputId": "2a63e20e-a51b-42b9-bb21-72bf1fd218b4"
      },
      "source": [
        "import pandas as pd\n",
        "import matplotlib.pyplot as plt\n",
        "import numpy as np\n",
        "import tensorflow as tf\n",
        "from tensorflow.keras.preprocessing import text, sequence\n",
        "from gensim.models import Word2Vec\n",
        "from sklearn.decomposition import PCA\n",
        "import matplotlib.font_manager as fm\n",
        "from matplotlib import rc\n",
        "import seaborn as sns\n",
        "from collections import Counter\n",
        "from tensorflow_addons.optimizers import SWA\n",
        "from sklearn.model_selection import train_test_split\n",
        "from tensorflow.keras.layers import (\n",
        "    GRU,\n",
        "    Dense,\n",
        "    TimeDistributed,\n",
        "    Permute,\n",
        "    Layer,\n",
        "    RepeatVector,\n",
        "    Bidirectional,\n",
        "    Dropout,\n",
        "    Input\n",
        ")\n",
        "from tensorflow.keras.models import Model\n",
        "from warnings import filterwarnings\n",
        "filterwarnings(\"ignore\")\n",
        "%matplotlib inline\n",
        "\n",
        "batch_size = 256\n",
        "seed = 0\n",
        "valid_rate = 0.1  # validation 에 사용할 비율\n",
        "max_length = 100  # seq 총 길이를 100(대략 75%)으로 맞춰준다.\n",
        "max_sentences = 5  # 총 5개의 문장이라고 가정함.\n",
        "attention_dim = 40\n",
        "gru_dim=20\n",
        "\n",
        "max_sentence_length = int(max_length / max_sentences)\n",
        "np.random.seed(seed)\n",
        "tf.random.set_seed(seed)\n",
        "\n",
        "\n",
        "train = pd.read_csv('drive/MyDrive/HAN/data/train.txt')\n",
        "test = pd.read_csv('drive/MyDrive/HAN/data/test.txt')\n",
        "\n",
        "train = train.applymap(lambda x: x.split(\"|\")[1:])\n",
        "test = test.applymap(lambda x: x.split(\"|\")[1:])\n",
        "\n",
        "train_labels = train.applymap(lambda x: int(x[-1])).values.reshape((-1))\n",
        "test_labels = test.applymap(lambda x: int(x[-1])).values.reshape((-1))\n",
        "\n",
        "train_texts = train.applymap(lambda x: x[0])\n",
        "test_texts = test.applymap(lambda x: x[0])\n",
        "\n",
        "train_seq_len = train_texts.applymap(lambda x: len(x.split(\" \"))).values.reshape((-1))\n",
        "train_texts = train_texts.applymap(lambda x: x.split(\" \")).values.reshape((-1))\n",
        "test_texts = test_texts.applymap(lambda x: x.split(\" \")).values.reshape((-1))\n",
        "\n",
        "\n",
        "def del_empty_space(texts, labels):\n",
        "    for idx, text_list in enumerate(texts):\n",
        "        \"\"\"\n",
        "        빈단어는 삭제해준다.\n",
        "        \"\"\"\n",
        "        if \"\" in text_list:\n",
        "            if len(text_list) == 1:\n",
        "                texts = np.delete(texts, idx)\n",
        "                labels = np.delete(labels, idx)\n",
        "            else:\n",
        "                text_list.remove(\"\")\n",
        "    return texts, labels\n",
        "\n",
        "\n",
        "train_texts, train_labels = del_empty_space(train_texts, train_labels)\n",
        "text_texts, test_labels = del_empty_space(test_texts, test_labels)\n",
        "\n",
        "print(f\"label class : {sorted(set(train_labels))}\")  # 9개의 class 존재\n",
        "print(f\"시퀀스 단어 평균 갯수 : {np.mean(train_seq_len)}\")  # 81\n"
      ],
      "execution_count": 25,
      "outputs": [
        {
          "output_type": "stream",
          "text": [
            "label class : [0, 1, 2, 3, 4, 5, 6, 7, 8]\n",
            "시퀀스 단어 평균 갯수 : 81.31815128308477\n"
          ],
          "name": "stdout"
        }
      ]
    },
    {
      "cell_type": "code",
      "metadata": {
        "colab": {
          "base_uri": "https://localhost:8080/"
        },
        "id": "8g2KKXQ9ns-_",
        "outputId": "b9f60bee-dfb2-4854-c2ed-76d518a8b289"
      },
      "source": [
        "!apt-get update -qq\n",
        "!apt-get install fonts-nanum* -qq\n",
        "path = '/usr/share/fonts/truetype/nanum/NanumGothicEco.ttf'  # 설치된 나눔글꼴중 원하는 녀석의 전체 경로를 가져오자\n",
        "font_name = fm.FontProperties(fname=path, size=10).get_name()\n",
        "print(font_name)\n",
        "rc('font', family=font_name)\n",
        "fm._rebuild()"
      ],
      "execution_count": 26,
      "outputs": [
        {
          "output_type": "stream",
          "text": [
            "NanumGothic Eco\n"
          ],
          "name": "stdout"
        }
      ]
    },
    {
      "cell_type": "code",
      "metadata": {
        "colab": {
          "base_uri": "https://localhost:8080/",
          "height": 290
        },
        "id": "AxgU7_uQ6ojG",
        "outputId": "585f1e0f-aa19-4643-e1fa-759c175089c4"
      },
      "source": [
        "plt.style.use(\"seaborn-pastel\")\n",
        "plt.title(\"각 sequence 별 단어의 개수 histogram\")\n",
        "plt.hist(x=train_seq_len, bins=50)\n",
        "plt.show()"
      ],
      "execution_count": 27,
      "outputs": [
        {
          "output_type": "display_data",
          "data": {
            "image/png": "[encoded data removed]",
            "text/plain": [
              "<Figure size 432x288 with 1 Axes>"
            ]
          },
          "metadata": {
            "tags": [],
            "needs_background": "light"
          }
        }
      ]
    },
    {
      "cell_type": "code",
      "metadata": {
        "colab": {
          "base_uri": "https://localhost:8080/"
        },
        "id": "Z3WcUx806rWF",
        "outputId": "d75a6de0-aa81-4e8b-e710-0719a4684d6b"
      },
      "source": [
        "word_counts = {}\n",
        "for seq in train_texts:\n",
        "    for word in seq:\n",
        "        word = word.lower()\n",
        "        if word in word_counts:\n",
        "            word_counts[word] += 1\n",
        "        else:\n",
        "            word_counts[word] = 1\n",
        "\n",
        "# '경험', '개발' '서비스' 가 가장 많이 사용되었다.\n",
        "# 1번 혹은 2번 사용된 단어들은 의미없는 단어가 대부분이라 제외한다.\n",
        "sort_dict = sorted(word_counts.items(), key=lambda x: x[1], reverse=True)\n",
        "print(sort_dict[:10])\n",
        "print(sort_dict[-10:])"
      ],
      "execution_count": 28,
      "outputs": [
        {
          "output_type": "stream",
          "text": [
            "[('경험', 19460), ('개발', 15610), ('서비스', 10198), ('기획', 7159), ('운영', 6554), ('이상', 5958), ('업무', 5512), ('디자인', 5507), ('관리', 5488), ('이해', 5218)]\n",
            "[('족도', 1), ('시소', 1), ('cashflow', 1), ('statements', 1), ('auditors', 1), ('capitalization', 1), ('financials', 1), ('receivable', 1), ('payable', 1), ('concentration', 1)]\n"
          ],
          "name": "stdout"
        }
      ]
    },
    {
      "cell_type": "code",
      "metadata": {
        "colab": {
          "base_uri": "https://localhost:8080/"
        },
        "id": "9Bt2ocho6u-O",
        "outputId": "41e21c76-a5e5-41aa-eec3-986b31a947c1"
      },
      "source": [
        "except_count = 0\n",
        "for count in np.array(sort_dict)[:, 1]:\n",
        "    if int(count) < 3:\n",
        "        except_count += 1\n",
        "\n",
        "num_words = len(sort_dict) - except_count  # 7779개 단어 사용\n",
        "\n",
        "tokenizer = text.Tokenizer(num_words=num_words)\n",
        "tokenizer.fit_on_texts(train_texts)\n",
        "\n",
        "words_frequency = [w for w, c in tokenizer.word_counts.items() if c < 3]\n",
        "# 빈도수가 3미만인 단어를 tokenizer 에서 제거.\n",
        "for w in words_frequency:\n",
        "    del tokenizer.word_index[w]\n",
        "    del tokenizer.word_counts[w]\n",
        "\n",
        "word_vocab = tokenizer.word_index\n",
        "print(f\"사용 단어 개수 : {len(word_vocab)}\")\n",
        "\n",
        "train_seq = tokenizer.texts_to_sequences(train_texts)\n",
        "test_seq = tokenizer.texts_to_sequences(test_texts)\n",
        "\n",
        "train_inputs = sequence.pad_sequences(train_seq, maxlen=max_length, padding=\"pre\")\n",
        "test_inputs = sequence.pad_sequences(test_seq, maxlen=max_length, padding=\"pre\")\n",
        "\n",
        "train_inputs = np.reshape(train_inputs, (-1, max_sentences, max_sentence_length))\n",
        "test_inputs = np.reshape(test_inputs, (-1, max_sentences, max_sentence_length))\n",
        "train_texts, val_texts, train_inputs, val_inputs, train_labels, val_labels = train_test_split(train_texts , train_inputs, train_labels, random_state = seed, test_size = valid_rate, stratify = train_labels)"
      ],
      "execution_count": 6,
      "outputs": [
        {
          "output_type": "stream",
          "text": [
            "사용 단어 개수 : 7779\n"
          ],
          "name": "stdout"
        }
      ]
    },
    {
      "cell_type": "code",
      "metadata": {
        "colab": {
          "base_uri": "https://localhost:8080/"
        },
        "id": "q4iBJHP3_Ot-",
        "outputId": "18186a13-0702-4735-a00a-f8aa1c1f3241"
      },
      "source": [
        "train_texts.shape, train_inputs.shape, train_labels.shape"
      ],
      "execution_count": 7,
      "outputs": [
        {
          "output_type": "execute_result",
          "data": {
            "text/plain": [
              "((6697,), (6697, 5, 20), (6697,))"
            ]
          },
          "metadata": {
            "tags": []
          },
          "execution_count": 7
        }
      ]
    },
    {
      "cell_type": "code",
      "metadata": {
        "colab": {
          "base_uri": "https://localhost:8080/",
          "height": 605
        },
        "id": "JIsCwosz9QMJ",
        "outputId": "c638c617-3f55-4911-fe63-196b5bc79ac3"
      },
      "source": [
        "train_label_counts = np.array(list(Counter(train_labels).items()))\n",
        "val_label_counts = np.array(list(Counter(val_labels).items()))\n",
        "test_label_counts = np.array(list(Counter(test_labels).items()))\n",
        "\n",
        "plt.figure(figsize=(10,10))\n",
        "plt.subplot(2,2,1)\n",
        "plt.title(\"Train Label Counts\")\n",
        "plt.bar(x=train_label_counts[:, 0], height=train_label_counts[:, 1], width=0.8)\n",
        "plt.xticks(np.arange(0,9))\n",
        "\n",
        "plt.subplot(2,2,2)\n",
        "plt.title(\"Valid Label Counts\")\n",
        "plt.bar(x=val_label_counts[:, 0], height=val_label_counts[:, 1], width=0.8)\n",
        "plt.xticks(np.arange(0,9))\n",
        "\n",
        "plt.subplot(2,2,3)\n",
        "plt.title(\"Test Label Counts\")\n",
        "plt.bar(x=test_label_counts[:, 0], height=test_label_counts[:, 1], width=0.8)\n",
        "plt.xticks(np.arange(0,9))\n",
        "\n",
        "plt.show()"
      ],
      "execution_count": 8,
      "outputs": [
        {
          "output_type": "display_data",
          "data": {
            "image/png": "[encoded data removed]",
            "text/plain": [
              "<Figure size 720x720 with 3 Axes>"
            ]
          },
          "metadata": {
            "tags": [],
            "needs_background": "light"
          }
        }
      ]
    },
    {
      "cell_type": "code",
      "metadata": {
        "colab": {
          "base_uri": "https://localhost:8080/"
        },
        "id": "TTxUpU6S60BB",
        "outputId": "71298729-e84a-40f8-d456-6f5d9f864df4"
      },
      "source": [
        "# 3개 미만인 것은 제외, skip-gram 사용\n",
        "# embedding dimension은 200을 했을 때보다 100을 했을 때 더 나은 성능을 보인다.\n",
        "embedding_model = Word2Vec(\n",
        "    train_texts, size=100, window=2, min_count=3, workers=4, iter=100, sg=1, seed=seed\n",
        ")\n",
        "print(embedding_model.wv.most_similar(positive=[\"리눅스\"], topn=3))"
      ],
      "execution_count": 9,
      "outputs": [
        {
          "output_type": "stream",
          "text": [
            "[('유닉스', 0.6252844333648682), ('Linux', 0.5750201940536499), ('proxy', 0.5504277944564819)]\n"
          ],
          "name": "stdout"
        },
        {
          "output_type": "stream",
          "text": [
            "/usr/local/lib/python3.6/dist-packages/gensim/matutils.py:737: FutureWarning: Conversion of the second argument of issubdtype from `int` to `np.signedinteger` is deprecated. In future, it will be treated as `np.int64 == np.dtype(int).type`.\n",
            "  if np.issubdtype(vec.dtype, np.int):\n"
          ],
          "name": "stderr"
        }
      ]
    },
    {
      "cell_type": "code",
      "metadata": {
        "colab": {
          "base_uri": "https://localhost:8080/",
          "height": 443
        },
        "id": "n6spo-AB62qB",
        "outputId": "bdc1833f-2af1-4bc6-c06a-cf200a95979e"
      },
      "source": [
        "check = 30  # 30개만 확인\n",
        "wv = embedding_model.wv\n",
        "vocabs = wv.vocab.keys()\n",
        "word_list = [wv[word] for word in vocabs]\n",
        "pca = PCA(n_components=2)\n",
        "xys = pca.fit_transform(word_list)[:check]\n",
        "xs = xys[:, 0]\n",
        "ys = xys[:, 1]\n",
        "plt.figure(figsize=(8, 6))\n",
        "plt.scatter(xs, ys, marker=\"o\")\n",
        "for i, v in enumerate(list(vocabs)[:check]):\n",
        "    plt.annotate(v, xy=(xs[i], ys[i]))\n",
        "plt.show()"
      ],
      "execution_count": 10,
      "outputs": [
        {
          "output_type": "stream",
          "text": [
            "/usr/local/lib/python3.6/dist-packages/matplotlib/backends/backend_agg.py:214: RuntimeWarning: Glyph 8722 missing from current font.\n",
            "  font.set_text(s, 0.0, flags=flags)\n",
            "/usr/local/lib/python3.6/dist-packages/matplotlib/backends/backend_agg.py:183: RuntimeWarning: Glyph 8722 missing from current font.\n",
            "  font.set_text(s, 0, flags=flags)\n"
          ],
          "name": "stderr"
        },
        {
          "output_type": "display_data",
          "data": {
            "image/png": "[encoded data removed]",
            "text/plain": [
              "<Figure size 576x432 with 1 Axes>"
            ]
          },
          "metadata": {
            "tags": [],
            "needs_background": "light"
          }
        }
      ]
    },
    {
      "cell_type": "code",
      "metadata": {
        "colab": {
          "base_uri": "https://localhost:8080/"
        },
        "id": "FwGurhxOH6zs",
        "outputId": "c57eb672-fed3-40c9-dd47-287fb16ba939"
      },
      "source": [
        "\n",
        "train_ds = tf.data.Dataset.from_tensor_slices((train_inputs, train_labels)).batch(\n",
        "    batch_size\n",
        ").shuffle(buffer_size=len(train_inputs), seed=seed).prefetch(tf.data.experimental.AUTOTUNE)\n",
        "valid_ds = tf.data.Dataset.from_tensor_slices((val_inputs, val_labels)).batch(\n",
        "    batch_size\n",
        ")\n",
        "a,b = next(iter(train_ds))\n",
        "a.shape, b.shape"
      ],
      "execution_count": 11,
      "outputs": [
        {
          "output_type": "execute_result",
          "data": {
            "text/plain": [
              "(TensorShape([256, 5, 20]), TensorShape([256]))"
            ]
          },
          "metadata": {
            "tags": []
          },
          "execution_count": 11
        }
      ]
    },
    {
      "cell_type": "code",
      "metadata": {
        "colab": {
          "base_uri": "https://localhost:8080/"
        },
        "id": "MmNt8nGPpkE9",
        "outputId": "9bc6a2a7-7951-4572-8d85-b2ab4ac12f3d"
      },
      "source": [
        "class AttentionLayer(Layer):\n",
        "    \"\"\"\n",
        "    sentence & word attention layer\n",
        "    \"\"\"\n",
        "\n",
        "    def __init__(self, attention_dim, **kwargs):\n",
        "        super(AttentionLayer, self).__init__(**kwargs)\n",
        "        self.dense1 = Dense(attention_dim, kernel_regularizer=tf.keras.regularizers.l2(0.001))\n",
        "        self.dense2 = Dense(1, kernel_regularizer=tf.keras.regularizers.l2(0.001), use_bias=False)\n",
        "\n",
        "    def call(self, x):\n",
        "        \"\"\"\n",
        "\n",
        "        :param x: hidden state, shape = (batch,seq,features)\n",
        "        :return:\n",
        "        \"\"\"\n",
        "        u_it = tf.nn.tanh(self.dense1(x))  # batch, seq, attention_dim\n",
        "        a_it = self.dense2(u_it)  # batch, seq, 1\n",
        "        a_it = tf.squeeze(a_it, -1)\n",
        "        a_it = tf.nn.softmax(a_it)  # batch, seq\n",
        "        return a_it\n",
        "    \n",
        "    def compute_output_shape(self, input_shape):\n",
        "        return (input_shape[0], input_shape[1])\n",
        "\n",
        "\n",
        "\n",
        "class RepresentationLayer(Layer):\n",
        "    \"\"\"\n",
        "    sentence & word representation layer\n",
        "    \"\"\"\n",
        "\n",
        "    def __init__(self, **kwargs):\n",
        "        super(RepresentationLayer, self).__init__(**kwargs)\n",
        "\n",
        "    def call(self, embedded, attention):\n",
        "        \"\"\"\n",
        "\n",
        "        :param embedded: hidden state, shape = (batch,seq,features)\n",
        "        :param attention: attention weights, shape = (batch,seq)\n",
        "        :return:\n",
        "        \"\"\"\n",
        "        repeated_attention = RepeatVector(gru_dim*2)(attention)  # batch, features, seq\n",
        "        repeated_attention = Permute([2, 1])(repeated_attention)  # batch, seq, features\n",
        "        representation = embedded * repeated_attention  # batch, seq, features\n",
        "        representation = tf.reduce_sum(representation, axis=1)  # batch, features\n",
        "        return representation\n",
        "\n",
        "    def compute_output_shape(self, input_shape):\n",
        "        return (input_shape[0], input_shape[-1])\n",
        "\n",
        "\n",
        "class SentenceEncoder(Layer):\n",
        "    def __init__(self, gru_dim, attention_dim, **kwargs):\n",
        "        super(SentenceEncoder, self).__init__(**kwargs)\n",
        "        self.gru_dim = gru_dim\n",
        "        self.word2vec = embedding_model.wv.get_keras_embedding(train_embeddings=False)\n",
        "        self.gru = Bidirectional(GRU(gru_dim, return_sequences=True, kernel_regularizer=tf.keras.regularizers.l2(0.001)))\n",
        "\n",
        "    def call(self, x):\n",
        "        embedding = self.word2vec(x)  # batch, max_sentence_length, embedding_dim\n",
        "        x = self.gru(embedding)  # batch, max_sentence_length, gru_dim*2\n",
        "        return x\n",
        "\n",
        "    def compute_output_shape(self, input_shape):\n",
        "        return (input_shape[0], input_shape[1], self.gru_dim * 2)\n",
        "\n",
        "\n",
        "# build a sentence encoder\n",
        "sentence_input = Input(shape=(max_sentence_length, ), dtype='int32')\n",
        "embedded_sentence = SentenceEncoder(gru_dim, attention_dim)(sentence_input)\n",
        "\n",
        "# word attention computation\n",
        "word_attention = AttentionLayer(attention_dim)(embedded_sentence)\n",
        "sentence_representation = RepresentationLayer()(embedded_sentence, word_attention)\n",
        "sentence_encoder = Model(inputs=[sentence_input], outputs=[sentence_representation])\n",
        "\n",
        "# build a document encoder\n",
        "document_input = Input(shape=(max_sentences, max_sentence_length), dtype='int32')\n",
        "embedded_document = TimeDistributed(sentence_encoder)(document_input)\n",
        "embedded_document = Bidirectional(GRU(gru_dim, return_sequences=True, kernel_regularizer=tf.keras.regularizers.l2(0.001)))(embedded_document)\n",
        "\n",
        "# sentence attention computation\n",
        "sentence_attention = AttentionLayer(attention_dim)(embedded_document)\n",
        "document_representation = RepresentationLayer()(embedded_document, sentence_attention)\n",
        "\n",
        "# fully connected layers\n",
        "dropout = Dropout(0.2, seed=seed)(document_representation)\n",
        "dense1 = Dense(16, kernel_regularizer=tf.keras.regularizers.l2(0.01), activation='relu')(dropout)\n",
        "output = Dense(9, kernel_regularizer=tf.keras.regularizers.l2(0.02), activation=\"softmax\")(dense1)\n",
        "\n",
        "model = Model(inputs=[document_input],outputs=[output])\n",
        "model.summary()"
      ],
      "execution_count": 13,
      "outputs": [
        {
          "output_type": "stream",
          "text": [
            "Model: \"functional_3\"\n",
            "__________________________________________________________________________________________________\n",
            "Layer (type)                    Output Shape         Param #     Connected to                     \n",
            "==================================================================================================\n",
            "input_2 (InputLayer)            [(None, 5, 20)]      0                                            \n",
            "__________________________________________________________________________________________________\n",
            "time_distributed_1 (TimeDistrib (None, 5, 40)        849620      input_2[0][0]                    \n",
            "__________________________________________________________________________________________________\n",
            "bidirectional_3 (Bidirectional) (None, 5, 40)        7440        time_distributed_1[0][0]         \n",
            "__________________________________________________________________________________________________\n",
            "attention_layer_3 (AttentionLay (None, 5)            1680        bidirectional_3[0][0]            \n",
            "__________________________________________________________________________________________________\n",
            "representation_layer_1 (Represe (None, 40)           0           bidirectional_3[0][0]            \n",
            "                                                                 attention_layer_3[0][0]          \n",
            "__________________________________________________________________________________________________\n",
            "dropout_1 (Dropout)             (None, 40)           0           representation_layer_1[0][0]     \n",
            "__________________________________________________________________________________________________\n",
            "dense_10 (Dense)                (None, 16)           656         dropout_1[0][0]                  \n",
            "__________________________________________________________________________________________________\n",
            "dense_11 (Dense)                (None, 9)            153         dense_10[0][0]                   \n",
            "==================================================================================================\n",
            "Total params: 859,549\n",
            "Trainable params: 26,249\n",
            "Non-trainable params: 833,300\n",
            "__________________________________________________________________________________________________\n"
          ],
          "name": "stdout"
        }
      ]
    },
    {
      "cell_type": "code",
      "metadata": {
        "colab": {
          "base_uri": "https://localhost:8080/"
        },
        "id": "-lUpZcmVhzQk",
        "outputId": "d39c2a3e-5943-4471-ab9f-bd99acf61402"
      },
      "source": [
        "\n",
        "# critical success index - TP/(TP+FP+FN)\n",
        "def single_class_csi(interesting_class_id):\n",
        "    def csi(y_true, y_pred):\n",
        "        class_id_true = tf.cast(y_true, tf.int64)\n",
        "        class_id_pred = tf.math.argmax(y_pred, axis=-1)\n",
        "        # 전체 양성수(TP+FN)\n",
        "        real_positive = tf.cast(\n",
        "            tf.math.equal(class_id_true, interesting_class_id), \"int32\"\n",
        "        )\n",
        "        # 양성이라고 판정한 수(TP+FP)\n",
        "        pred_positive = tf.cast(\n",
        "            tf.math.equal(class_id_pred, interesting_class_id), \"int32\"\n",
        "        )\n",
        "        # 검출 양성수(TP)\n",
        "        true_positive = (\n",
        "            tf.cast(tf.math.equal(class_id_true, class_id_pred), \"int32\")\n",
        "            * real_positive\n",
        "        )\n",
        "        tp_fp_fn = real_positive + pred_positive - true_positive\n",
        "        # TP/(TP+FP+FN)\n",
        "        class_csi = tf.cast(tf.math.reduce_sum(true_positive), \"float32\") / tf.cast(\n",
        "            tf.math.maximum(tf.math.reduce_sum(tp_fp_fn), 1), \"float32\"\n",
        "        )\n",
        "        return class_csi\n",
        "\n",
        "    return csi\n",
        "\n",
        "\n",
        "CSI0 = single_class_csi(0)\n",
        "CSI1 = single_class_csi(1)\n",
        "CSI2 = single_class_csi(2)\n",
        "CSI3 = single_class_csi(3)\n",
        "CSI4 = single_class_csi(4)\n",
        "CSI5 = single_class_csi(5)\n",
        "CSI6 = single_class_csi(6)\n",
        "CSI7 = single_class_csi(7)\n",
        "CSI8 = single_class_csi(8)\n",
        "\n",
        "\n",
        "@tf.function\n",
        "def train_step(\n",
        "    model, inputs, labels, loss_object, optimizer, train_loss, train_accuracy\n",
        "):\n",
        "    with tf.GradientTape() as tape:\n",
        "        predictions = model(inputs, training=True)\n",
        "        loss = loss_object(labels, predictions)\n",
        "    gradients = tape.gradient(loss, model.trainable_variables)\n",
        "    optimizer.apply_gradients(zip(gradients, model.trainable_variables))\n",
        "    train_loss(loss)\n",
        "    train_accuracy(labels, predictions)\n",
        "    return predictions\n",
        "\n",
        "@tf.function\n",
        "def test_step(\n",
        "    model, inputs, labels, loss_object, test_loss, test_accuracy\n",
        "):\n",
        "    predictions = model(inputs, training=False)\n",
        "    loss = loss_object(labels, predictions)\n",
        "    test_loss(loss)\n",
        "    test_accuracy(labels, predictions)\n",
        "    return predictions\n",
        "\n",
        "loss_object = tf.keras.losses.SparseCategoricalCrossentropy(name='loss_obj')\n",
        "train_loss = tf.keras.metrics.Mean(name='train_loss')\n",
        "train_accuracy = tf.keras.metrics.SparseCategoricalAccuracy(name = 'train_acc')\n",
        "test_loss = tf.keras.metrics.Mean(name='test_loss')\n",
        "test_accuracy = tf.keras.metrics.SparseCategoricalAccuracy(name = 'test_acc')\n",
        "\n",
        "sgd = tf.optimizers.SGD(learning_rate = 0.1, momentum=0.9)\n",
        "optimizer = SWA(sgd, start_averaging = 3, average_period = 5)\n",
        "for epoch in range(20):\n",
        "    print(f\"\\nEpoch : {epoch+1}\")\n",
        "    for inputs, labels in train_ds:\n",
        "        predictions = train_step(model,inputs, labels, loss_object, optimizer, train_loss, train_accuracy)\n",
        "    template1 = f\"Loss:{train_loss.result():.3f}, Accuracy:{train_accuracy.result()*100:.3f}\"\n",
        "    print(\"\\nTrain\")\n",
        "    print(template1)\n",
        "    print(f\"CSI0 : {CSI0(labels,predictions):.3f}\")\n",
        "    print(f\"CSI1 : {CSI1(labels,predictions):.3f}\")\n",
        "    print(f\"CSI2 : {CSI2(labels,predictions):.3f}\")\n",
        "    print(f\"CSI3 : {CSI3(labels,predictions):.3f}\")\n",
        "    print(f\"CSI4 : {CSI4(labels,predictions):.3f}\")\n",
        "    print(f\"CSI5 : {CSI5(labels,predictions):.3f}\")\n",
        "    print(f\"CSI6 : {CSI6(labels,predictions):.3f}\")\n",
        "    print(f\"CSI7 : {CSI7(labels,predictions):.3f}\")\n",
        "    print(f\"CSI8 : {CSI8(labels,predictions):.3f}\")\n",
        "    for inputs, labels in valid_ds:\n",
        "        predictions = test_step(model, inputs, labels, loss_object, test_loss, test_accuracy)\n",
        "    \n",
        "    print(\"\\nTest\")\n",
        "    template2 = f\"Loss:{test_loss.result():.3f}, Accuracy:{test_accuracy.result()*100:.3f}\"\n",
        "    print(template2)\n",
        "    print(f\"CSI0 : {CSI0(labels,predictions):.3f}\")\n",
        "    print(f\"CSI1 : {CSI1(labels,predictions):.3f}\")\n",
        "    print(f\"CSI2 : {CSI2(labels,predictions):.3f}\")\n",
        "    print(f\"CSI3 : {CSI3(labels,predictions):.3f}\")\n",
        "    print(f\"CSI4 : {CSI4(labels,predictions):.3f}\")\n",
        "    print(f\"CSI5 : {CSI5(labels,predictions):.3f}\")\n",
        "    print(f\"CSI6 : {CSI6(labels,predictions):.3f}\")\n",
        "    print(f\"CSI7 : {CSI7(labels,predictions):.3f}\")\n",
        "    print(f\"CSI8 : {CSI8(labels,predictions):.3f}\")\n",
        "\n",
        "    train_loss.reset_states()\n",
        "    train_accuracy.reset_states()\n",
        "    test_loss.reset_states()\n",
        "    test_accuracy.reset_states()"
      ],
      "execution_count": 14,
      "outputs": [
        {
          "output_type": "stream",
          "text": [
            "\n",
            "Epoch : 1\n",
            "\n",
            "Train\n",
            "Loss:1.811, Accuracy:39.884\n",
            "CSI0 : 0.441\n",
            "CSI1 : 0.000\n",
            "CSI2 : 0.000\n",
            "CSI3 : 0.000\n",
            "CSI4 : 0.000\n",
            "CSI5 : 0.000\n",
            "CSI6 : 0.000\n",
            "CSI7 : 0.000\n",
            "CSI8 : 0.000\n",
            "\n",
            "Test\n",
            "Loss:1.687, Accuracy:44.295\n",
            "CSI0 : 0.472\n",
            "CSI1 : 0.000\n",
            "CSI2 : 0.000\n",
            "CSI3 : 0.000\n",
            "CSI4 : 0.000\n",
            "CSI5 : 0.000\n",
            "CSI6 : 0.000\n",
            "CSI7 : 0.000\n",
            "CSI8 : 0.000\n",
            "\n",
            "Epoch : 2\n",
            "\n",
            "Train\n",
            "Loss:1.677, Accuracy:44.318\n",
            "CSI0 : 0.434\n",
            "CSI1 : 0.000\n",
            "CSI2 : 0.000\n",
            "CSI3 : 0.000\n",
            "CSI4 : 0.000\n",
            "CSI5 : 0.000\n",
            "CSI6 : 0.000\n",
            "CSI7 : 0.000\n",
            "CSI8 : 0.000\n",
            "\n",
            "Test\n",
            "Loss:1.660, Accuracy:44.295\n",
            "CSI0 : 0.472\n",
            "CSI1 : 0.000\n",
            "CSI2 : 0.000\n",
            "CSI3 : 0.000\n",
            "CSI4 : 0.000\n",
            "CSI5 : 0.000\n",
            "CSI6 : 0.000\n",
            "CSI7 : 0.000\n",
            "CSI8 : 0.000\n",
            "\n",
            "Epoch : 3\n",
            "\n",
            "Train\n",
            "Loss:1.664, Accuracy:44.318\n",
            "CSI0 : 0.418\n",
            "CSI1 : 0.000\n",
            "CSI2 : 0.000\n",
            "CSI3 : 0.000\n",
            "CSI4 : 0.000\n",
            "CSI5 : 0.000\n",
            "CSI6 : 0.000\n",
            "CSI7 : 0.000\n",
            "CSI8 : 0.000\n",
            "\n",
            "Test\n",
            "Loss:1.643, Accuracy:44.295\n",
            "CSI0 : 0.472\n",
            "CSI1 : 0.000\n",
            "CSI2 : 0.000\n",
            "CSI3 : 0.000\n",
            "CSI4 : 0.000\n",
            "CSI5 : 0.000\n",
            "CSI6 : 0.000\n",
            "CSI7 : 0.000\n",
            "CSI8 : 0.000\n",
            "\n",
            "Epoch : 4\n",
            "\n",
            "Train\n",
            "Loss:1.613, Accuracy:44.378\n",
            "CSI0 : 0.480\n",
            "CSI1 : 0.000\n",
            "CSI2 : 0.000\n",
            "CSI3 : 0.000\n",
            "CSI4 : 0.000\n",
            "CSI5 : 0.000\n",
            "CSI6 : 0.000\n",
            "CSI7 : 0.000\n",
            "CSI8 : 0.000\n",
            "\n",
            "Test\n",
            "Loss:1.537, Accuracy:44.295\n",
            "CSI0 : 0.472\n",
            "CSI1 : 0.000\n",
            "CSI2 : 0.000\n",
            "CSI3 : 0.000\n",
            "CSI4 : 0.000\n",
            "CSI5 : 0.000\n",
            "CSI6 : 0.000\n",
            "CSI7 : 0.000\n",
            "CSI8 : 0.000\n",
            "\n",
            "Epoch : 5\n",
            "\n",
            "Train\n",
            "Loss:1.510, Accuracy:48.260\n",
            "CSI0 : 0.607\n",
            "CSI1 : 0.000\n",
            "CSI2 : 0.271\n",
            "CSI3 : 0.000\n",
            "CSI4 : 0.000\n",
            "CSI5 : 0.000\n",
            "CSI6 : 0.000\n",
            "CSI7 : 0.000\n",
            "CSI8 : 0.000\n",
            "\n",
            "Test\n",
            "Loss:1.278, Accuracy:55.705\n",
            "CSI0 : 0.697\n",
            "CSI1 : 0.000\n",
            "CSI2 : 0.368\n",
            "CSI3 : 0.000\n",
            "CSI4 : 0.000\n",
            "CSI5 : 0.000\n",
            "CSI6 : 0.000\n",
            "CSI7 : 0.000\n",
            "CSI8 : 0.000\n",
            "\n",
            "Epoch : 6\n",
            "\n",
            "Train\n",
            "Loss:1.192, Accuracy:60.027\n",
            "CSI0 : 0.718\n",
            "CSI1 : 0.233\n",
            "CSI2 : 0.403\n",
            "CSI3 : 0.254\n",
            "CSI4 : 0.000\n",
            "CSI5 : 0.000\n",
            "CSI6 : 0.000\n",
            "CSI7 : 0.000\n",
            "CSI8 : 0.000\n",
            "\n",
            "Test\n",
            "Loss:1.044, Accuracy:64.698\n",
            "CSI0 : 0.788\n",
            "CSI1 : 0.213\n",
            "CSI2 : 0.433\n",
            "CSI3 : 0.342\n",
            "CSI4 : 0.000\n",
            "CSI5 : 0.000\n",
            "CSI6 : 0.000\n",
            "CSI7 : 0.000\n",
            "CSI8 : 0.000\n",
            "\n",
            "Epoch : 7\n",
            "\n",
            "Train\n",
            "Loss:0.990, Accuracy:68.060\n",
            "CSI0 : 0.864\n",
            "CSI1 : 0.333\n",
            "CSI2 : 0.542\n",
            "CSI3 : 0.381\n",
            "CSI4 : 0.000\n",
            "CSI5 : 0.000\n",
            "CSI6 : 0.000\n",
            "CSI7 : 0.000\n",
            "CSI8 : 0.000\n",
            "\n",
            "Test\n",
            "Loss:0.893, Accuracy:71.409\n",
            "CSI0 : 0.896\n",
            "CSI1 : 0.378\n",
            "CSI2 : 0.521\n",
            "CSI3 : 0.441\n",
            "CSI4 : 0.000\n",
            "CSI5 : 0.000\n",
            "CSI6 : 0.000\n",
            "CSI7 : 0.000\n",
            "CSI8 : 0.000\n",
            "\n",
            "Epoch : 8\n",
            "\n",
            "Train\n",
            "Loss:0.810, Accuracy:75.332\n",
            "CSI0 : 0.844\n",
            "CSI1 : 0.706\n",
            "CSI2 : 0.723\n",
            "CSI3 : 0.571\n",
            "CSI4 : 0.000\n",
            "CSI5 : 0.000\n",
            "CSI6 : 0.000\n",
            "CSI7 : 0.000\n",
            "CSI8 : 0.000\n",
            "\n",
            "Test\n",
            "Loss:0.774, Accuracy:76.913\n",
            "CSI0 : 0.832\n",
            "CSI1 : 0.657\n",
            "CSI2 : 0.750\n",
            "CSI3 : 0.519\n",
            "CSI4 : 0.000\n",
            "CSI5 : 0.000\n",
            "CSI6 : 0.000\n",
            "CSI7 : 0.000\n",
            "CSI8 : 0.000\n",
            "\n",
            "Epoch : 9\n",
            "\n",
            "Train\n",
            "Loss:0.646, Accuracy:80.215\n",
            "CSI0 : 0.855\n",
            "CSI1 : 0.757\n",
            "CSI2 : 0.507\n",
            "CSI3 : 0.516\n",
            "CSI4 : 0.111\n",
            "CSI5 : 0.000\n",
            "CSI6 : 0.000\n",
            "CSI7 : 0.000\n",
            "CSI8 : 0.000\n",
            "\n",
            "Test\n",
            "Loss:0.631, Accuracy:79.732\n",
            "CSI0 : 0.883\n",
            "CSI1 : 0.839\n",
            "CSI2 : 0.544\n",
            "CSI3 : 0.523\n",
            "CSI4 : 0.250\n",
            "CSI5 : 0.125\n",
            "CSI6 : 0.000\n",
            "CSI7 : 0.000\n",
            "CSI8 : 0.000\n",
            "\n",
            "Epoch : 10\n",
            "\n",
            "Train\n",
            "Loss:0.563, Accuracy:81.902\n",
            "CSI0 : 0.922\n",
            "CSI1 : 0.806\n",
            "CSI2 : 0.630\n",
            "CSI3 : 0.566\n",
            "CSI4 : 0.333\n",
            "CSI5 : 0.235\n",
            "CSI6 : 0.000\n",
            "CSI7 : 0.167\n",
            "CSI8 : 0.000\n",
            "\n",
            "Test\n",
            "Loss:0.591, Accuracy:81.611\n",
            "CSI0 : 0.876\n",
            "CSI1 : 0.781\n",
            "CSI2 : 0.633\n",
            "CSI3 : 0.550\n",
            "CSI4 : 0.333\n",
            "CSI5 : 0.364\n",
            "CSI6 : 0.000\n",
            "CSI7 : 0.250\n",
            "CSI8 : 0.000\n",
            "\n",
            "Epoch : 11\n",
            "\n",
            "Train\n",
            "Loss:0.508, Accuracy:83.545\n",
            "CSI0 : 0.906\n",
            "CSI1 : 0.879\n",
            "CSI2 : 0.600\n",
            "CSI3 : 0.564\n",
            "CSI4 : 0.571\n",
            "CSI5 : 0.231\n",
            "CSI6 : 0.000\n",
            "CSI7 : 0.200\n",
            "CSI8 : 0.000\n",
            "\n",
            "Test\n",
            "Loss:0.550, Accuracy:82.953\n",
            "CSI0 : 0.881\n",
            "CSI1 : 0.812\n",
            "CSI2 : 0.652\n",
            "CSI3 : 0.556\n",
            "CSI4 : 0.250\n",
            "CSI5 : 0.364\n",
            "CSI6 : 0.000\n",
            "CSI7 : 0.333\n",
            "CSI8 : 0.000\n",
            "\n",
            "Epoch : 12\n",
            "\n",
            "Train\n",
            "Loss:0.450, Accuracy:85.277\n",
            "CSI0 : 0.903\n",
            "CSI1 : 0.889\n",
            "CSI2 : 0.738\n",
            "CSI3 : 0.689\n",
            "CSI4 : 0.500\n",
            "CSI5 : 0.500\n",
            "CSI6 : 0.222\n",
            "CSI7 : 0.000\n",
            "CSI8 : 0.000\n",
            "\n",
            "Test\n",
            "Loss:0.509, Accuracy:85.235\n",
            "CSI0 : 0.891\n",
            "CSI1 : 0.900\n",
            "CSI2 : 0.775\n",
            "CSI3 : 0.628\n",
            "CSI4 : 0.222\n",
            "CSI5 : 0.444\n",
            "CSI6 : 0.250\n",
            "CSI7 : 0.250\n",
            "CSI8 : 0.000\n",
            "\n",
            "Epoch : 13\n",
            "\n",
            "Train\n",
            "Loss:0.406, Accuracy:87.114\n",
            "CSI0 : 0.961\n",
            "CSI1 : 0.839\n",
            "CSI2 : 0.756\n",
            "CSI3 : 0.717\n",
            "CSI4 : 0.400\n",
            "CSI5 : 0.100\n",
            "CSI6 : 0.000\n",
            "CSI7 : 0.167\n",
            "CSI8 : 0.200\n",
            "\n",
            "Test\n",
            "Loss:0.520, Accuracy:85.369\n",
            "CSI0 : 0.884\n",
            "CSI1 : 0.871\n",
            "CSI2 : 0.737\n",
            "CSI3 : 0.628\n",
            "CSI4 : 0.333\n",
            "CSI5 : 0.444\n",
            "CSI6 : 0.500\n",
            "CSI7 : 0.200\n",
            "CSI8 : 0.000\n",
            "\n",
            "Epoch : 14\n",
            "\n",
            "Train\n",
            "Loss:0.384, Accuracy:87.950\n",
            "CSI0 : 0.922\n",
            "CSI1 : 1.000\n",
            "CSI2 : 0.765\n",
            "CSI3 : 0.640\n",
            "CSI4 : 0.556\n",
            "CSI5 : 0.429\n",
            "CSI6 : 0.583\n",
            "CSI7 : 0.250\n",
            "CSI8 : 0.100\n",
            "\n",
            "Test\n",
            "Loss:0.493, Accuracy:86.040\n",
            "CSI0 : 0.914\n",
            "CSI1 : 0.900\n",
            "CSI2 : 0.744\n",
            "CSI3 : 0.690\n",
            "CSI4 : 0.333\n",
            "CSI5 : 0.400\n",
            "CSI6 : 0.556\n",
            "CSI7 : 0.400\n",
            "CSI8 : 0.000\n",
            "\n",
            "Epoch : 15\n",
            "\n",
            "Train\n",
            "Loss:0.365, Accuracy:88.293\n",
            "CSI0 : 0.900\n",
            "CSI1 : 0.769\n",
            "CSI2 : 0.818\n",
            "CSI3 : 0.566\n",
            "CSI4 : 0.600\n",
            "CSI5 : 0.500\n",
            "CSI6 : 0.500\n",
            "CSI7 : 0.250\n",
            "CSI8 : 0.000\n",
            "\n",
            "Test\n",
            "Loss:0.576, Accuracy:85.235\n",
            "CSI0 : 0.907\n",
            "CSI1 : 0.781\n",
            "CSI2 : 0.800\n",
            "CSI3 : 0.627\n",
            "CSI4 : 0.400\n",
            "CSI5 : 0.375\n",
            "CSI6 : 0.571\n",
            "CSI7 : 0.250\n",
            "CSI8 : 0.000\n",
            "\n",
            "Epoch : 16\n",
            "\n",
            "Train\n",
            "Loss:0.358, Accuracy:88.219\n",
            "CSI0 : 0.904\n",
            "CSI1 : 0.938\n",
            "CSI2 : 0.871\n",
            "CSI3 : 0.646\n",
            "CSI4 : 0.500\n",
            "CSI5 : 0.750\n",
            "CSI6 : 0.750\n",
            "CSI7 : 0.333\n",
            "CSI8 : 0.222\n",
            "\n",
            "Test\n",
            "Loss:0.546, Accuracy:85.906\n",
            "CSI0 : 0.890\n",
            "CSI1 : 0.844\n",
            "CSI2 : 0.778\n",
            "CSI3 : 0.622\n",
            "CSI4 : 0.333\n",
            "CSI5 : 0.500\n",
            "CSI6 : 0.667\n",
            "CSI7 : 0.250\n",
            "CSI8 : 0.000\n",
            "\n",
            "Epoch : 17\n",
            "\n",
            "Train\n",
            "Loss:0.313, Accuracy:90.010\n",
            "CSI0 : 0.941\n",
            "CSI1 : 0.857\n",
            "CSI2 : 0.775\n",
            "CSI3 : 0.707\n",
            "CSI4 : 1.000\n",
            "CSI5 : 0.769\n",
            "CSI6 : 0.778\n",
            "CSI7 : 0.727\n",
            "CSI8 : 0.250\n",
            "\n",
            "Test\n",
            "Loss:0.491, Accuracy:85.369\n",
            "CSI0 : 0.888\n",
            "CSI1 : 0.839\n",
            "CSI2 : 0.718\n",
            "CSI3 : 0.614\n",
            "CSI4 : 0.500\n",
            "CSI5 : 0.556\n",
            "CSI6 : 0.600\n",
            "CSI7 : 0.333\n",
            "CSI8 : 0.000\n",
            "\n",
            "Epoch : 18\n",
            "\n",
            "Train\n",
            "Loss:0.290, Accuracy:90.742\n",
            "CSI0 : 0.964\n",
            "CSI1 : 0.853\n",
            "CSI2 : 0.756\n",
            "CSI3 : 0.706\n",
            "CSI4 : 0.500\n",
            "CSI5 : 0.800\n",
            "CSI6 : 0.444\n",
            "CSI7 : 0.500\n",
            "CSI8 : 0.000\n",
            "\n",
            "Test\n",
            "Loss:0.508, Accuracy:86.309\n",
            "CSI0 : 0.888\n",
            "CSI1 : 0.900\n",
            "CSI2 : 0.795\n",
            "CSI3 : 0.565\n",
            "CSI4 : 0.500\n",
            "CSI5 : 0.444\n",
            "CSI6 : 0.545\n",
            "CSI7 : 0.667\n",
            "CSI8 : 0.000\n",
            "\n",
            "Epoch : 19\n",
            "\n",
            "Train\n",
            "Loss:0.265, Accuracy:91.145\n",
            "CSI0 : 0.952\n",
            "CSI1 : 0.895\n",
            "CSI2 : 0.833\n",
            "CSI3 : 0.714\n",
            "CSI4 : 1.000\n",
            "CSI5 : 0.769\n",
            "CSI6 : 0.455\n",
            "CSI7 : 0.333\n",
            "CSI8 : 0.000\n",
            "\n",
            "Test\n",
            "Loss:0.639, Accuracy:83.758\n",
            "CSI0 : 0.849\n",
            "CSI1 : 0.828\n",
            "CSI2 : 0.735\n",
            "CSI3 : 0.489\n",
            "CSI4 : 0.333\n",
            "CSI5 : 0.444\n",
            "CSI6 : 0.545\n",
            "CSI7 : 0.333\n",
            "CSI8 : 0.000\n",
            "\n",
            "Epoch : 20\n",
            "\n",
            "Train\n",
            "Loss:0.255, Accuracy:91.668\n",
            "CSI0 : 0.973\n",
            "CSI1 : 0.881\n",
            "CSI2 : 0.875\n",
            "CSI3 : 0.660\n",
            "CSI4 : 0.556\n",
            "CSI5 : 0.778\n",
            "CSI6 : 0.800\n",
            "CSI7 : 0.500\n",
            "CSI8 : 0.000\n",
            "\n",
            "Test\n",
            "Loss:0.511, Accuracy:86.174\n",
            "CSI0 : 0.876\n",
            "CSI1 : 0.806\n",
            "CSI2 : 0.718\n",
            "CSI3 : 0.610\n",
            "CSI4 : 0.400\n",
            "CSI5 : 0.556\n",
            "CSI6 : 0.556\n",
            "CSI7 : 0.400\n",
            "CSI8 : 0.143\n"
          ],
          "name": "stdout"
        }
      ]
    },
    {
      "cell_type": "code",
      "metadata": {
        "colab": {
          "base_uri": "https://localhost:8080/"
        },
        "id": "twklWUIUh9M-",
        "outputId": "ec2365d7-3b9f-48ca-b921-ee4441fb5910"
      },
      "source": [
        "test_pred = model(test_inputs)\n",
        "test_loss = loss_object(test_labels,test_pred)\n",
        "test_acc = tf.keras.metrics.SparseCategoricalAccuracy()(test_labels,test_pred)\n",
        "print(f\"Test Loss : {test_loss}:.3f\")\n",
        "print(f\"Test Accuracy : {test_acc}:.3f\")\n",
        "print(f\"CSI0 : {CSI0(test_labels,test_pred):.3f}\")\n",
        "print(f\"CSI1 : {CSI1(test_labels,test_pred):.3f}\")\n",
        "print(f\"CSI2 : {CSI2(test_labels,test_pred):.3f}\")\n",
        "print(f\"CSI3 : {CSI3(test_labels,test_pred):.3f}\")\n",
        "print(f\"CSI4 : {CSI4(test_labels,test_pred):.3f}\")\n",
        "print(f\"CSI5 : {CSI5(test_labels,test_pred):.3f}\")\n",
        "print(f\"CSI6 : {CSI6(test_labels,test_pred):.3f}\")\n",
        "print(f\"CSI7 : {CSI7(test_labels,test_pred):.3f}\")\n",
        "print(f\"CSI8 : {CSI8(test_labels,test_pred):.3f}\")"
      ],
      "execution_count": 15,
      "outputs": [
        {
          "output_type": "stream",
          "text": [
            "Test Loss : 0.42666032910346985:.3f\n",
            "Test Accuracy : 0.8681983351707458:.3f\n",
            "CSI0 : 0.894\n",
            "CSI1 : 0.880\n",
            "CSI2 : 0.780\n",
            "CSI3 : 0.558\n",
            "CSI4 : 0.667\n",
            "CSI5 : 0.571\n",
            "CSI6 : 0.474\n",
            "CSI7 : 0.480\n",
            "CSI8 : 0.258\n"
          ],
          "name": "stdout"
        }
      ]
    },
    {
      "cell_type": "code",
      "metadata": {
        "id": "8C96crbIilJI"
      },
      "source": [
        "word_rev_index = {}\n",
        "for word, i in word_vocab.items():\n",
        "    word_rev_index[i] = word\n",
        "\n",
        "word_attention_extractor = Model(inputs=[sentence_input],\n",
        "                                 outputs=[word_attention])\n",
        "\n",
        "word_attentions = TimeDistributed(word_attention_extractor)(document_input)\n",
        "\n",
        "attention_extractor = Model(inputs=[document_input],\n",
        "                            outputs=[word_attentions, sentence_attention])\n",
        "\n",
        "def sentiment_analysis(tokenized_sentences):    \n",
        "    # word attention만 가져오기\n",
        "    word_att, sentence_att = attention_extractor.predict(np.asarray([test_inputs[0]]))\n",
        "    pred_attention = word_att[0]\n",
        "    for i, sentence in enumerate(test_inputs[0]):\n",
        "        words = [word_rev_index[word_id] for word_id in sentence if word_id != 0][:50]\n",
        "        pred_att = np.asarray(pred_attention[i][::-1][:len(words)][::-1])\n",
        "        pred_att = np.expand_dims(pred_att, axis=0)\n",
        "\n",
        "        fig, ax = plt.subplots(figsize=(len(words), 2))\n",
        "        plt.rc('xtick', labelsize=22)\n",
        "        heatmap = sns.heatmap(pred_att, xticklabels=words, square=True, linewidths=0.1)\n",
        "        plt.xticks(rotation=70)\n",
        "        plt.show()"
      ],
      "execution_count": 16,
      "outputs": []
    },
    {
      "cell_type": "code",
      "metadata": {
        "colab": {
          "base_uri": "https://localhost:8080/"
        },
        "id": "0nFdcHSn5523",
        "outputId": "bb75b2cf-77e6-4353-f68c-9bb53de04e70"
      },
      "source": [
        "sentiment_idx = []\n",
        "labels = []\n",
        "for idx, label in enumerate(test_labels):\n",
        "    if label not in labels:\n",
        "        sentiment_idx.append(idx)\n",
        "        labels.append(label)\n",
        "    if len(sentiment_idx) == 9:\n",
        "        break\n",
        "sentiment_idx"
      ],
      "execution_count": 17,
      "outputs": [
        {
          "output_type": "execute_result",
          "data": {
            "text/plain": [
              "[0, 1, 4, 10, 15, 21, 33, 34, 60]"
            ]
          },
          "metadata": {
            "tags": []
          },
          "execution_count": 17
        }
      ]
    },
    {
      "cell_type": "code",
      "metadata": {
        "colab": {
          "base_uri": "https://localhost:8080/",
          "height": 1000
        },
        "id": "FJ7fY8sj8Ag3",
        "outputId": "c7b55d3b-049d-4cb2-b98f-02c0842e6e7d"
      },
      "source": [
        "num = 8\n",
        "idx = sentiment_idx[num]\n",
        "print(f\"Label : {test_labels[idx]} \")\n",
        "sentiment_analysis(test_texts[idx])"
      ],
      "execution_count": 19,
      "outputs": [
        {
          "output_type": "stream",
          "text": [
            "Label : 4 \n"
          ],
          "name": "stdout"
        },
        {
          "output_type": "display_data",
          "data": {
            "image/png": "[encoded data removed]",
            "text/plain": [
              "<Figure size 1080x144 with 2 Axes>"
            ]
          },
          "metadata": {
            "tags": [],
            "needs_background": "light"
          }
        },
        {
          "output_type": "display_data",
          "data": {
            "image/png": "[encoded data removed]",
            "text/plain": [
              "<Figure size 1440x144 with 2 Axes>"
            ]
          },
          "metadata": {
            "tags": [],
            "needs_background": "light"
          }
        },
        {
          "output_type": "display_data",
          "data": {
            "image/png": "[encoded data removed]",
            "text/plain": [
              "<Figure size 1440x144 with 2 Axes>"
            ]
          },
          "metadata": {
            "tags": [],
            "needs_background": "light"
          }
        },
        {
          "output_type": "display_data",
          "data": {
            "image/png": "[encoded data removed]",
            "text/plain": [
              "<Figure size 1440x144 with 2 Axes>"
            ]
          },
          "metadata": {
            "tags": [],
            "needs_background": "light"
          }
        },
        {
          "output_type": "display_data",
          "data": {
            "image/png": "[encoded data removed]",
            "text/plain": [
              "<Figure size 1440x144 with 2 Axes>"
            ]
          },
          "metadata": {
            "tags": [],
            "needs_background": "light"
          }
        }
      ]
    }
  ]
}